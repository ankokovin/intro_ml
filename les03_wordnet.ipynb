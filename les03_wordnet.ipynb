{
 "cells": [
  {
   "cell_type": "markdown",
   "metadata": {},
   "source": [
    "## WordNet"
   ]
  },
  {
   "cell_type": "code",
   "execution_count": 13,
   "metadata": {},
   "outputs": [],
   "source": [
    "from nltk.corpus import wordnet as wn\n",
    "from itertools import chain"
   ]
  },
  {
   "cell_type": "code",
   "execution_count": 19,
   "metadata": {},
   "outputs": [
    {
     "name": "stdout",
     "output_type": "stream",
     "text": [
      "0. movie.n.01\n",
      "alternative names (lemmas): \"movie\", \"film\", \"picture\", \"moving_picture\", \"moving-picture_show\", \"motion_picture\", \"motion-picture_show\", \"picture_show\", \"pic\", \"flick\"\n",
      "definition: \"a form of entertainment that enacts a story by sound and a sequence of images giving the illusion of continuous movement\"\n",
      "example usage: \"they went to a movie every Saturday night\", \"the film was shot on location\"\n",
      "\n",
      "1. film.n.02\n",
      "alternative names (lemmas): \"film\", \"cinema\", \"celluloid\"\n",
      "definition: \"a medium that disseminates moving pictures\"\n",
      "example usage: \"theater pieces transferred to celluloid\", \"this story would be good cinema\", \"film coverage of sporting events\"\n",
      "\n",
      "2. film.n.03\n",
      "alternative names (lemmas): \"film\", \"photographic_film\"\n",
      "definition: \"photographic material consisting of a base of celluloid covered with a photographic emulsion; used to make negatives or transparencies\"\n",
      "\n",
      "3. film.n.04\n",
      "alternative names (lemmas): \"film\"\n",
      "definition: \"a thin coating or layer\"\n",
      "example usage: \"the table was covered with a film of dust\"\n",
      "\n",
      "4. film.n.05\n",
      "alternative names (lemmas): \"film\", \"plastic_film\"\n",
      "definition: \"a thin sheet of (usually plastic and usually transparent) material used to wrap or cover things\"\n",
      "\n",
      "5. film.v.01\n",
      "alternative names (lemmas): \"film\", \"shoot\", \"take\"\n",
      "definition: \"make a film or photograph of something\"\n",
      "example usage: \"take a scene\", \"shoot a movie\"\n",
      "\n",
      "6. film.v.02\n",
      "alternative names (lemmas): \"film\"\n",
      "definition: \"record in film\"\n",
      "example usage: \"The coronation was filmed\"\n",
      "\n"
     ]
    }
   ],
   "source": [
    "film_synsets = wn.synsets('film')\n",
    "\n",
    "for i, syn in enumerate(film_synsets):\n",
    "    print('%d. %s' % (i, syn.name()))\n",
    "    print('alternative names (lemmas): \"%s\"' % '\", \"'.join(syn.lemma_names()))\n",
    "    print('definition: \"%s\"' % syn.definition())\n",
    "    if syn.examples():\n",
    "        print('example usage: \"%s\"' % '\", \"'.join(syn.examples()))\n",
    "    print()"
   ]
  },
  {
   "cell_type": "code",
   "execution_count": 20,
   "metadata": {},
   "outputs": [
    {
     "data": {
      "text/plain": [
       "{'celluloid',\n",
       " 'cinema',\n",
       " 'film',\n",
       " 'flick',\n",
       " 'motion-picture_show',\n",
       " 'motion_picture',\n",
       " 'movie',\n",
       " 'moving-picture_show',\n",
       " 'moving_picture',\n",
       " 'photographic_film',\n",
       " 'pic',\n",
       " 'picture',\n",
       " 'picture_show',\n",
       " 'plastic_film',\n",
       " 'shoot',\n",
       " 'take'}"
      ]
     },
     "execution_count": 20,
     "metadata": {},
     "output_type": "execute_result"
    }
   ],
   "source": [
    "synonyms = wn.synsets('film')\n",
    "set(chain.from_iterable([word.lemma_names() for word in synonyms]))"
   ]
  },
  {
   "cell_type": "code",
   "execution_count": null,
   "metadata": {},
   "outputs": [],
   "source": []
  }
 ],
 "metadata": {
  "kernelspec": {
   "display_name": "Python 3",
   "language": "python",
   "name": "python3"
  },
  "language_info": {
   "codemirror_mode": {
    "name": "ipython",
    "version": 3
   },
   "file_extension": ".py",
   "mimetype": "text/x-python",
   "name": "python",
   "nbconvert_exporter": "python",
   "pygments_lexer": "ipython3",
   "version": "3.6.4"
  }
 },
 "nbformat": 4,
 "nbformat_minor": 2
}
