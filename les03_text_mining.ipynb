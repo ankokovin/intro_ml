{
 "cells": [
  {
   "cell_type": "markdown",
   "metadata": {},
   "source": [
    "# Интеллектуальный анализ текстов"
   ]
  },
  {
   "cell_type": "code",
   "execution_count": 39,
   "metadata": {},
   "outputs": [],
   "source": [
    "import scipy.spatial\n",
    "import numpy as np\n",
    "import pandas as pd\n",
    "from fuzzywuzzy import fuzz\n",
    "from sklearn.feature_extraction.text import TfidfVectorizer\n",
    "from scipy.sparse import csr_matrix"
   ]
  },
  {
   "cell_type": "markdown",
   "metadata": {},
   "source": [
    "## Расстояние Левенштейна "
   ]
  },
  {
   "cell_type": "code",
   "execution_count": 3,
   "metadata": {},
   "outputs": [
    {
     "data": {
      "text/plain": [
       "0.8"
      ]
     },
     "execution_count": 3,
     "metadata": {},
     "output_type": "execute_result"
    }
   ],
   "source": [
    "fuzz.ratio(\"Игра\", \"Играть\")/100"
   ]
  },
  {
   "cell_type": "code",
   "execution_count": 4,
   "metadata": {},
   "outputs": [
    {
     "data": {
      "text/plain": [
       "0.57"
      ]
     },
     "execution_count": 4,
     "metadata": {},
     "output_type": "execute_result"
    }
   ],
   "source": [
    "fuzz.ratio(\"Играющий\", \"Играть\")/100"
   ]
  },
  {
   "cell_type": "code",
   "execution_count": 5,
   "metadata": {},
   "outputs": [
    {
     "data": {
      "text/plain": [
       "0.46"
      ]
     },
     "execution_count": 5,
     "metadata": {},
     "output_type": "execute_result"
    }
   ],
   "source": [
    "fuzz.ratio(\"Обедать\", \"Играть\")/100"
   ]
  },
  {
   "cell_type": "markdown",
   "metadata": {},
   "source": [
    "## Косинусное растояние\n",
    "### Счетчик слов"
   ]
  },
  {
   "cell_type": "code",
   "execution_count": 6,
   "metadata": {},
   "outputs": [
    {
     "name": "stdout",
     "output_type": "stream",
     "text": [
      "[(0, 'делаешь'), (1, 'утро'), (2, 'доброе'), (3, 'как'), (4, 'что'), (5, 'друг'), (6, 'привет'), (7, 'дела')]\n"
     ]
    },
    {
     "data": {
      "text/plain": [
       "[[0, 0, 0, 0, 0, 1, 1, 0],\n",
       " [0, 0, 0, 0, 0, 0, 2, 0],\n",
       " [0, 0, 0, 1, 0, 1, 0, 1],\n",
       " [0, 1, 1, 0, 0, 0, 0, 0],\n",
       " [1, 0, 0, 0, 1, 0, 0, 1]]"
      ]
     },
     "execution_count": 6,
     "metadata": {},
     "output_type": "execute_result"
    }
   ],
   "source": [
    "sentences = [\n",
    "    'привет друг',\n",
    "    'привет привет',\n",
    "    'как дела друг',\n",
    "    'доброе утро',\n",
    "    'что делаешь'\n",
    "]\n",
    "tokens = set(' '.join(sentences).split())\n",
    "vectors = [[sentence.count(token) for token in tokens]\n",
    "           for sentence in sentences]\n",
    "print([(i, word) for i, word in enumerate(tokens)])\n",
    "vectors"
   ]
  },
  {
   "cell_type": "code",
   "execution_count": 7,
   "metadata": {},
   "outputs": [
    {
     "name": "stdout",
     "output_type": "stream",
     "text": [
      "привет друг\n",
      "0.0\n",
      "привет привет\n",
      "0.29289321881345254\n",
      "как дела друг\n",
      "0.5917517095361369\n",
      "доброе утро\n",
      "1.0\n",
      "что делаешь\n",
      "1.0\n"
     ]
    }
   ],
   "source": [
    "for i, sentence in enumerate(sentences):\n",
    "    print(sentence)\n",
    "    print(scipy.spatial.distance.cosine(vectors[0], vectors[i]))"
   ]
  },
  {
   "cell_type": "markdown",
   "metadata": {},
   "source": [
    "### TF-IDF"
   ]
  },
  {
   "cell_type": "code",
   "execution_count": 78,
   "metadata": {},
   "outputs": [
    {
     "name": "stdout",
     "output_type": "stream",
     "text": [
      "[(0, 'дела'), (1, 'делаешь'), (2, 'доброе'), (3, 'друг'), (4, 'как'), (5, 'привет'), (6, 'утро'), (7, 'что')]\n"
     ]
    },
    {
     "data": {
      "text/plain": [
       "[[0.0, 0.0, 0.0, 0.7071067811865476, 0.0, 0.7071067811865476, 0.0, 0.0],\n",
       " [0.0, 0.0, 0.0, 0.0, 0.0, 1.0, 0.0, 0.0],\n",
       " [0.6141889663426562,\n",
       "  0.0,\n",
       "  0.0,\n",
       "  0.49552379079705033,\n",
       "  0.6141889663426562,\n",
       "  0.0,\n",
       "  0.0,\n",
       "  0.0],\n",
       " [0.0, 0.0, 0.7071067811865475, 0.0, 0.0, 0.0, 0.7071067811865475, 0.0],\n",
       " [0.0, 0.7071067811865475, 0.0, 0.0, 0.0, 0.0, 0.0, 0.7071067811865475]]"
      ]
     },
     "execution_count": 78,
     "metadata": {},
     "output_type": "execute_result"
    }
   ],
   "source": [
    "vectorizer = TfidfVectorizer() #TfidfVectorizer(stop_words=['как', 'что'])\n",
    "X = vectorizer.fit_transform(sentences)\n",
    "len_vector = len(vectorizer.get_feature_names())\n",
    "print([(i, word) for i, word in enumerate(vectorizer.get_feature_names())])\n",
    "vectors = [list(i) for i in csr_matrix(X).toarray()]\n",
    "vectors"
   ]
  },
  {
   "cell_type": "code",
   "execution_count": 79,
   "metadata": {},
   "outputs": [
    {
     "name": "stdout",
     "output_type": "stream",
     "text": [
      "привет друг\n",
      "0.0\n",
      "привет привет\n",
      "0.2928932188134524\n",
      "как дела друг\n",
      "0.6496117672881416\n",
      "доброе утро\n",
      "1.0\n",
      "что делаешь\n",
      "1.0\n"
     ]
    }
   ],
   "source": [
    "for i, sentence in enumerate(sentences):\n",
    "    print(sentence)\n",
    "    print(scipy.spatial.distance.cosine(vectors[0], vectors[i]))"
   ]
  },
  {
   "cell_type": "code",
   "execution_count": 90,
   "metadata": {},
   "outputs": [
    {
     "name": "stdout",
     "output_type": "stream",
     "text": [
      "[0.70710678 0.         0.         0.         0.70710678 0.\n",
      " 0.         0.        ]\n"
     ]
    }
   ],
   "source": [
    "new_sentence = 'как дела товарищ'\n",
    "print(csr_matrix(vectorizer.transform([new_sentence])).toarray()[0])"
   ]
  },
  {
   "cell_type": "markdown",
   "metadata": {},
   "source": [
    "## По наиболее схожему вопросу найти ответ"
   ]
  },
  {
   "cell_type": "code",
   "execution_count": 101,
   "metadata": {},
   "outputs": [
    {
     "data": {
      "text/html": [
       "<div>\n",
       "<style scoped>\n",
       "    .dataframe tbody tr th:only-of-type {\n",
       "        vertical-align: middle;\n",
       "    }\n",
       "\n",
       "    .dataframe tbody tr th {\n",
       "        vertical-align: top;\n",
       "    }\n",
       "\n",
       "    .dataframe thead th {\n",
       "        text-align: right;\n",
       "    }\n",
       "</style>\n",
       "<table border=\"1\" class=\"dataframe\">\n",
       "  <thead>\n",
       "    <tr style=\"text-align: right;\">\n",
       "      <th></th>\n",
       "      <th>question</th>\n",
       "      <th>answer</th>\n",
       "    </tr>\n",
       "  </thead>\n",
       "  <tbody>\n",
       "    <tr>\n",
       "      <th>0</th>\n",
       "      <td>1. Что такое программирование?</td>\n",
       "      <td>Программирование – это процесс создания компью...</td>\n",
       "    </tr>\n",
       "    <tr>\n",
       "      <th>1</th>\n",
       "      <td>2. Как работает программный код?</td>\n",
       "      <td>Код программы содержит инструкции, которые явл...</td>\n",
       "    </tr>\n",
       "    <tr>\n",
       "      <th>2</th>\n",
       "      <td>3. Что такое отладка?</td>\n",
       "      <td>Отладка – это процесс поиска и устранения ошиб...</td>\n",
       "    </tr>\n",
       "    <tr>\n",
       "      <th>3</th>\n",
       "      <td>4. Назовите типы ошибок, которые могут возникн...</td>\n",
       "      <td>Синтаксические ошибки.\\nRuntime errors или оши...</td>\n",
       "    </tr>\n",
       "    <tr>\n",
       "      <th>4</th>\n",
       "      <td>5. Расскажите о синтаксических ошибках</td>\n",
       "      <td>Синтаксическая ошибка возникает, когда в коде ...</td>\n",
       "    </tr>\n",
       "  </tbody>\n",
       "</table>\n",
       "</div>"
      ],
      "text/plain": [
       "                                            question  \\\n",
       "0                     1. Что такое программирование?   \n",
       "1                   2. Как работает программный код?   \n",
       "2                              3. Что такое отладка?   \n",
       "3  4. Назовите типы ошибок, которые могут возникн...   \n",
       "4             5. Расскажите о синтаксических ошибках   \n",
       "\n",
       "                                              answer  \n",
       "0  Программирование – это процесс создания компью...  \n",
       "1  Код программы содержит инструкции, которые явл...  \n",
       "2  Отладка – это процесс поиска и устранения ошиб...  \n",
       "3  Синтаксические ошибки.\\nRuntime errors или оши...  \n",
       "4  Синтаксическая ошибка возникает, когда в коде ...  "
      ]
     },
     "execution_count": 101,
     "metadata": {},
     "output_type": "execute_result"
    }
   ],
   "source": [
    "df = pd.read_excel('questions.xlsx')\n",
    "df.head()"
   ]
  },
  {
   "cell_type": "code",
   "execution_count": 104,
   "metadata": {},
   "outputs": [
    {
     "data": {
      "text/plain": [
       "['1. Что такое программирование?',\n",
       " '2. Как работает программный код?',\n",
       " '3. Что такое отладка?',\n",
       " '4. Назовите типы ошибок, которые могут возникнуть в программе',\n",
       " '5. Расскажите о синтаксических ошибках',\n",
       " '6. Расскажите об ошибке времени выполнения',\n",
       " '7. Расскажите о логических ошибках',\n",
       " '8. Что такое блок-схема?',\n",
       " '9. Что такое алгоритм?',\n",
       " '10. Что по вашему значит «Поддерживать и обновлять программу»?',\n",
       " '11. Что такое переменные?',\n",
       " '12. Что такое зарезервированные слова в\\xa0программировании?',\n",
       " '13. Что такое цикл?',\n",
       " '14. Назовите разные виды циклов',\n",
       " '15. Чем отличаются for и while?']"
      ]
     },
     "execution_count": 104,
     "metadata": {},
     "output_type": "execute_result"
    }
   ],
   "source": [
    "list(df['question'])[:15]"
   ]
  },
  {
   "cell_type": "code",
   "execution_count": 105,
   "metadata": {},
   "outputs": [
    {
     "data": {
      "text/plain": [
       "['1. Что такое программирование?',\n",
       " '2. Как работает программный код?',\n",
       " '3. Что такое отладка?',\n",
       " '4. Назовите типы ошибок, которые могут возникнуть в программе',\n",
       " '5. Расскажите о синтаксических ошибках',\n",
       " '6. Расскажите об ошибке времени выполнения',\n",
       " '7. Расскажите о логических ошибках',\n",
       " '8. Что такое блок-схема?',\n",
       " '9. Что такое алгоритм?',\n",
       " '10. Что по вашему значит «Поддерживать и обновлять программу»?',\n",
       " '11. Что такое переменные?',\n",
       " '12. Что такое зарезервированные слова в программировании?',\n",
       " '13. Что такое цикл?',\n",
       " '14. Назовите разные виды циклов',\n",
       " '15. Чем отличаются for и while?']"
      ]
     },
     "execution_count": 105,
     "metadata": {},
     "output_type": "execute_result"
    }
   ],
   "source": [
    "[item.replace('\\xa0', ' ') for item in df['question']][:15]"
   ]
  },
  {
   "cell_type": "code",
   "execution_count": null,
   "metadata": {},
   "outputs": [],
   "source": []
  }
 ],
 "metadata": {
  "kernelspec": {
   "display_name": "Python 3",
   "language": "python",
   "name": "python3"
  },
  "language_info": {
   "codemirror_mode": {
    "name": "ipython",
    "version": 3
   },
   "file_extension": ".py",
   "mimetype": "text/x-python",
   "name": "python",
   "nbconvert_exporter": "python",
   "pygments_lexer": "ipython3",
   "version": "3.6.4"
  }
 },
 "nbformat": 4,
 "nbformat_minor": 2
}
