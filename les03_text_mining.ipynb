{
 "cells": [
  {
   "cell_type": "markdown",
   "metadata": {},
   "source": [
    "# Интеллектуальный анализ текстов"
   ]
  },
  {
   "cell_type": "code",
   "execution_count": 6,
   "metadata": {},
   "outputs": [],
   "source": [
    "import scipy.spatial\n",
    "import numpy as np\n",
    "import pandas as pd\n",
    "from fuzzywuzzy import fuzz"
   ]
  },
  {
   "cell_type": "markdown",
   "metadata": {},
   "source": [
    "### Расстояние Левенштейна "
   ]
  },
  {
   "cell_type": "code",
   "execution_count": 9,
   "metadata": {},
   "outputs": [
    {
     "data": {
      "text/plain": [
       "0.8"
      ]
     },
     "execution_count": 9,
     "metadata": {},
     "output_type": "execute_result"
    }
   ],
   "source": [
    "fuzz.ratio(\"Игра\", \"Играть\")/100"
   ]
  },
  {
   "cell_type": "code",
   "execution_count": 10,
   "metadata": {},
   "outputs": [
    {
     "data": {
      "text/plain": [
       "0.57"
      ]
     },
     "execution_count": 10,
     "metadata": {},
     "output_type": "execute_result"
    }
   ],
   "source": [
    "fuzz.ratio(\"Играющий\", \"Играть\")/100"
   ]
  },
  {
   "cell_type": "code",
   "execution_count": 12,
   "metadata": {},
   "outputs": [
    {
     "data": {
      "text/plain": [
       "0.46"
      ]
     },
     "execution_count": 12,
     "metadata": {},
     "output_type": "execute_result"
    }
   ],
   "source": [
    "fuzz.ratio(\"Обедать\", \"Играть\")/100"
   ]
  },
  {
   "cell_type": "markdown",
   "metadata": {},
   "source": [
    "### Косинусное растояние"
   ]
  },
  {
   "cell_type": "code",
   "execution_count": 18,
   "metadata": {},
   "outputs": [
    {
     "name": "stdout",
     "output_type": "stream",
     "text": [
      "[(0, 'утро'), (1, 'друг'), (2, 'как'), (3, 'доброе'), (4, 'делаешь'), (5, 'дела'), (6, 'что'), (7, 'привет')]\n"
     ]
    },
    {
     "data": {
      "text/plain": [
       "[[0, 1, 0, 0, 0, 0, 0, 1],\n",
       " [0, 0, 0, 0, 0, 0, 0, 2],\n",
       " [0, 1, 1, 0, 0, 1, 0, 0],\n",
       " [1, 0, 0, 1, 0, 0, 0, 0],\n",
       " [0, 0, 0, 0, 1, 1, 1, 0]]"
      ]
     },
     "execution_count": 18,
     "metadata": {},
     "output_type": "execute_result"
    }
   ],
   "source": [
    "sentences = [\n",
    "    'привет друг',\n",
    "    'привет привет',\n",
    "    'как дела друг',\n",
    "    'доброе утро',\n",
    "    'что делаешь'\n",
    "]\n",
    "tokens = set(' '.join(sentences).split())\n",
    "vectors = [[sentence.count(token) \n",
    "            for token in tokens]\n",
    "           for sentence in sentences]\n",
    "print([(i, word) for i, word in enumerate(tokens)])\n",
    "vectors"
   ]
  },
  {
   "cell_type": "code",
   "execution_count": 21,
   "metadata": {},
   "outputs": [
    {
     "name": "stdout",
     "output_type": "stream",
     "text": [
      "привет друг\n",
      "0.0\n",
      "привет привет\n",
      "0.29289321881345254\n",
      "как дела друг\n",
      "0.5917517095361369\n",
      "доброе утро\n",
      "1.0\n",
      "что делаешь\n",
      "1.0\n"
     ]
    }
   ],
   "source": [
    "for i, sentence in enumerate(sentences):\n",
    "    print(sentence)\n",
    "    print(scipy.spatial.distance.cosine(vectors[0], vectors[i]))"
   ]
  },
  {
   "cell_type": "markdown",
   "metadata": {},
   "source": [
    "### По наиболее схожему вопросу найти ответ"
   ]
  },
  {
   "cell_type": "code",
   "execution_count": 22,
   "metadata": {},
   "outputs": [
    {
     "data": {
      "text/html": [
       "<div>\n",
       "<style scoped>\n",
       "    .dataframe tbody tr th:only-of-type {\n",
       "        vertical-align: middle;\n",
       "    }\n",
       "\n",
       "    .dataframe tbody tr th {\n",
       "        vertical-align: top;\n",
       "    }\n",
       "\n",
       "    .dataframe thead th {\n",
       "        text-align: right;\n",
       "    }\n",
       "</style>\n",
       "<table border=\"1\" class=\"dataframe\">\n",
       "  <thead>\n",
       "    <tr style=\"text-align: right;\">\n",
       "      <th></th>\n",
       "      <th>question</th>\n",
       "      <th>answer</th>\n",
       "    </tr>\n",
       "  </thead>\n",
       "  <tbody>\n",
       "    <tr>\n",
       "      <th>0</th>\n",
       "      <td>1. Что такое программирование?</td>\n",
       "      <td>Программирование – это процесс создания компью...</td>\n",
       "    </tr>\n",
       "    <tr>\n",
       "      <th>1</th>\n",
       "      <td>2. Как работает программный код?</td>\n",
       "      <td>Код программы содержит инструкции, которые явл...</td>\n",
       "    </tr>\n",
       "    <tr>\n",
       "      <th>2</th>\n",
       "      <td>3. Что такое отладка?</td>\n",
       "      <td>Отладка – это процесс поиска и устранения ошиб...</td>\n",
       "    </tr>\n",
       "    <tr>\n",
       "      <th>3</th>\n",
       "      <td>4. Назовите типы ошибок, которые могут возникн...</td>\n",
       "      <td>Синтаксические ошибки.\\nRuntime errors или оши...</td>\n",
       "    </tr>\n",
       "    <tr>\n",
       "      <th>4</th>\n",
       "      <td>5. Расскажите о синтаксических ошибках</td>\n",
       "      <td>Синтаксическая ошибка возникает, когда в коде ...</td>\n",
       "    </tr>\n",
       "  </tbody>\n",
       "</table>\n",
       "</div>"
      ],
      "text/plain": [
       "                                            question  \\\n",
       "0                     1. Что такое программирование?   \n",
       "1                   2. Как работает программный код?   \n",
       "2                              3. Что такое отладка?   \n",
       "3  4. Назовите типы ошибок, которые могут возникн...   \n",
       "4             5. Расскажите о синтаксических ошибках   \n",
       "\n",
       "                                              answer  \n",
       "0  Программирование – это процесс создания компью...  \n",
       "1  Код программы содержит инструкции, которые явл...  \n",
       "2  Отладка – это процесс поиска и устранения ошиб...  \n",
       "3  Синтаксические ошибки.\\nRuntime errors или оши...  \n",
       "4  Синтаксическая ошибка возникает, когда в коде ...  "
      ]
     },
     "execution_count": 22,
     "metadata": {},
     "output_type": "execute_result"
    }
   ],
   "source": [
    "df = pd.read_excel('questions.xlsx')\n",
    "df.head()"
   ]
  },
  {
   "cell_type": "code",
   "execution_count": 24,
   "metadata": {},
   "outputs": [
    {
     "data": {
      "text/plain": [
       "['1. Что такое программирование?',\n",
       " '2. Как работает программный код?',\n",
       " '3. Что такое отладка?',\n",
       " '4. Назовите типы ошибок, которые могут возникнуть в программе',\n",
       " '5. Расскажите о синтаксических ошибках',\n",
       " '6. Расскажите об ошибке времени выполнения',\n",
       " '7. Расскажите о логических ошибках',\n",
       " '8. Что такое блок-схема?',\n",
       " '9. Что такое алгоритм?',\n",
       " '10. Что по вашему значит «Поддерживать и обновлять программу»?',\n",
       " '11. Что такое переменные?',\n",
       " '12. Что такое зарезервированные слова в\\xa0программировании?',\n",
       " '13. Что такое цикл?',\n",
       " '14. Назовите разные виды циклов',\n",
       " '15. Чем отличаются for и while?',\n",
       " '16. Что такое вложенный цикл?',\n",
       " '17. Что такое документация?',\n",
       " '18. Что делает компилятор?',\n",
       " '19. Что такое двоичный код?',\n",
       " '20. Что такое константа?',\n",
       " '21. Что такое операторы?',\n",
       " '22. Что такое массив?',\n",
       " '23. Что такое подпрограмма?',\n",
       " '24. Когда применяют арифметические операторы?',\n",
       " '25. Реляционные операторы',\n",
       " '26. Для чего нужны логические операторы?',\n",
       " '27. Зачем нужны операторы присваивания?',\n",
       " '28. Что значит «низкоуровневый язык программирования»?',\n",
       " '29. Высокоуровневый язык программирования',\n",
       " '30. Что такое машинный код?',\n",
       " '31. Объясните термин «надежность ПО»',\n",
       " '32. Что такое тестирование ПО?',\n",
       " '33. Что такое бета-версия?',\n",
       " '34. Что значит «анализировать программу»?',\n",
       " '35. Как работает алгоритм?']"
      ]
     },
     "execution_count": 24,
     "metadata": {},
     "output_type": "execute_result"
    }
   ],
   "source": [
    "list(df['question'])"
   ]
  },
  {
   "cell_type": "code",
   "execution_count": null,
   "metadata": {},
   "outputs": [],
   "source": []
  }
 ],
 "metadata": {
  "kernelspec": {
   "display_name": "Python 3",
   "language": "python",
   "name": "python3"
  },
  "language_info": {
   "codemirror_mode": {
    "name": "ipython",
    "version": 3
   },
   "file_extension": ".py",
   "mimetype": "text/x-python",
   "name": "python",
   "nbconvert_exporter": "python",
   "pygments_lexer": "ipython3",
   "version": "3.6.4"
  }
 },
 "nbformat": 4,
 "nbformat_minor": 2
}
