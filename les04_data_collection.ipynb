{
 "cells": [
  {
   "cell_type": "markdown",
   "metadata": {},
   "source": [
    "# Сбор данных"
   ]
  },
  {
   "cell_type": "code",
   "execution_count": 45,
   "metadata": {},
   "outputs": [],
   "source": [
    "import pandas as pd\n",
    "import numpy as np\n",
    "from bs4 import BeautifulSoup\n",
    "from IPython.core.display import HTML\n",
    "import requests\n",
    "import lxml.html\n",
    "from pprint import pprint"
   ]
  },
  {
   "cell_type": "markdown",
   "metadata": {},
   "source": [
    "### Обработка html-страниц\n",
    "### hh.ru"
   ]
  },
  {
   "cell_type": "code",
   "execution_count": 34,
   "metadata": {},
   "outputs": [
    {
     "data": {
      "text/html": [
       "<div>\n",
       "<style scoped>\n",
       "    .dataframe tbody tr th:only-of-type {\n",
       "        vertical-align: middle;\n",
       "    }\n",
       "\n",
       "    .dataframe tbody tr th {\n",
       "        vertical-align: top;\n",
       "    }\n",
       "\n",
       "    .dataframe thead th {\n",
       "        text-align: right;\n",
       "    }\n",
       "</style>\n",
       "<table border=\"1\" class=\"dataframe\">\n",
       "  <thead>\n",
       "    <tr style=\"text-align: right;\">\n",
       "      <th></th>\n",
       "      <th>vacancy</th>\n",
       "      <th>desription</th>\n",
       "    </tr>\n",
       "  </thead>\n",
       "  <tbody>\n",
       "    <tr>\n",
       "      <th>0</th>\n",
       "      <td>python-разработчик</td>\n",
       "      <td>В настоящее время компания Itransition активно...</td>\n",
       "    </tr>\n",
       "    <tr>\n",
       "      <th>1</th>\n",
       "      <td>python-разработчик</td>\n",
       "      <td>SaM Solutions is looking for an experienced Py...</td>\n",
       "    </tr>\n",
       "    <tr>\n",
       "      <th>2</th>\n",
       "      <td>devops</td>\n",
       "      <td>Обязанности:   Администрирование и поддержка L...</td>\n",
       "    </tr>\n",
       "    <tr>\n",
       "      <th>3</th>\n",
       "      <td>devops</td>\n",
       "      <td>IT company specializing IT operations, operati...</td>\n",
       "    </tr>\n",
       "  </tbody>\n",
       "</table>\n",
       "</div>"
      ],
      "text/plain": [
       "              vacancy                                         desription\n",
       "0  python-разработчик  В настоящее время компания Itransition активно...\n",
       "1  python-разработчик  SaM Solutions is looking for an experienced Py...\n",
       "2              devops  Обязанности:   Администрирование и поддержка L...\n",
       "3              devops  IT company specializing IT operations, operati..."
      ]
     },
     "execution_count": 34,
     "metadata": {},
     "output_type": "execute_result"
    }
   ],
   "source": [
    "headers = {\n",
    "    'User-Agent':'Mozilla/5.0 (Windows NT 6.0; rv:14.0) Gecko/20100101 Firefox/14.0.1',\n",
    "    'Accept': 'text/html,application/xhtml+xml,application/xml;q=0.9,*/*;q=0.8',\n",
    "    'Accept-Language':'ru-ru,ru;q=0.8,en-us;q=0.5,en;q=0.3',\n",
    "    'Accept-Encoding':'gzip, deflate',\n",
    "    'Connection':'keep-alive',\n",
    "    'DNT':'1'\n",
    "}\n",
    "\n",
    "vacancies = ['python-разработчик', 'devops']\n",
    "df = pd.DataFrame(columns=['vacancy', 'desription'])\n",
    "for vacancy in vacancies:\n",
    "    url = 'https://hh.ru/search/vacancy?clusters=true&text=' + vacancy + '&enable_snippets=true&page=0&search_field=name&no_magic=true'\n",
    "    request = requests.get(url, headers=headers)\n",
    "    soup = BeautifulSoup(request.text, 'lxml')\n",
    "    css_selector_vacancy_urls = '.HH-LinkModifier'\n",
    "    vacancy_urls = list(map(lambda x: x['href'], soup.select(css_selector_vacancy_urls)))\n",
    "    for url in vacancy_urls[:2]:\n",
    "        request = requests.get(url, headers=headers)\n",
    "        soup = BeautifulSoup(request.text, 'lxml')\n",
    "        css_selector_desription = '.g-user-content'\n",
    "        vacancy_text = soup.select(css_selector_desription)[0].text\n",
    "        df.loc[len(df)] = [vacancy, vacancy_text]\n",
    "df"
   ]
  },
  {
   "cell_type": "markdown",
   "metadata": {},
   "source": [
    "### imdb.com"
   ]
  },
  {
   "cell_type": "code",
   "execution_count": 35,
   "metadata": {},
   "outputs": [
    {
     "data": {
      "text/html": [
       "<div>\n",
       "<style scoped>\n",
       "    .dataframe tbody tr th:only-of-type {\n",
       "        vertical-align: middle;\n",
       "    }\n",
       "\n",
       "    .dataframe tbody tr th {\n",
       "        vertical-align: top;\n",
       "    }\n",
       "\n",
       "    .dataframe thead th {\n",
       "        text-align: right;\n",
       "    }\n",
       "</style>\n",
       "<table border=\"1\" class=\"dataframe\">\n",
       "  <thead>\n",
       "    <tr style=\"text-align: right;\">\n",
       "      <th></th>\n",
       "      <th>title</th>\n",
       "      <th>overview</th>\n",
       "    </tr>\n",
       "  </thead>\n",
       "  <tbody>\n",
       "    <tr>\n",
       "      <th>0</th>\n",
       "      <td>Balto</td>\n",
       "      <td>An outcast half-wolf risks his life to prevent...</td>\n",
       "    </tr>\n",
       "    <tr>\n",
       "      <th>1</th>\n",
       "      <td>Hellboy</td>\n",
       "      <td>Based on the graphic novels by Mike Mignola, H...</td>\n",
       "    </tr>\n",
       "    <tr>\n",
       "      <th>2</th>\n",
       "      <td>Fargo</td>\n",
       "      <td>Various chronicles of deception, intrigue and ...</td>\n",
       "    </tr>\n",
       "    <tr>\n",
       "      <th>3</th>\n",
       "      <td>Aliens</td>\n",
       "      <td>Ellen Ripley is rescued by a deep salvage team...</td>\n",
       "    </tr>\n",
       "  </tbody>\n",
       "</table>\n",
       "</div>"
      ],
      "text/plain": [
       "     title                                           overview\n",
       "0    Balto  An outcast half-wolf risks his life to prevent...\n",
       "1  Hellboy  Based on the graphic novels by Mike Mignola, H...\n",
       "2    Fargo  Various chronicles of deception, intrigue and ...\n",
       "3   Aliens  Ellen Ripley is rescued by a deep salvage team..."
      ]
     },
     "execution_count": 35,
     "metadata": {},
     "output_type": "execute_result"
    }
   ],
   "source": [
    "films = ['Balto', 'Hellboy', 'Fargo', 'Aliens']\n",
    "df = pd.DataFrame(columns=['title', 'overview'])\n",
    "for film in films:\n",
    "    url = 'https://www.imdb.com/find?ref_=nv_sr_fn&q=' + film + '&s=all'\n",
    "    request = requests.get(url, headers=headers)\n",
    "    soup = BeautifulSoup(request.text, 'lxml')\n",
    "    css_selector_film_url = '.result_text a'\n",
    "    film_url = 'https://www.imdb.com' + soup.select(css_selector_film_url)[0]['href']\n",
    "    request = requests.get(film_url, headers=headers)\n",
    "    soup = BeautifulSoup(request.text, 'lxml')\n",
    "    css_selector_overview = '.summary_text'\n",
    "    overview_text = soup.select(css_selector_overview)[0].text.strip()\n",
    "    df.loc[len(df)] = [film, overview_text]\n",
    "df"
   ]
  },
  {
   "cell_type": "markdown",
   "metadata": {},
   "source": [
    "## Обработка json\n",
    "### api.hh.ru\n",
    "https://github.com/hhru/api"
   ]
  },
  {
   "cell_type": "code",
   "execution_count": 54,
   "metadata": {
    "scrolled": true
   },
   "outputs": [
    {
     "name": "stdout",
     "output_type": "stream",
     "text": [
      "{'alternate_url': 'https://hh.ru/search/vacancy?enable_snippets=true&items_on_page=1&specialization=7',\n",
      " 'arguments': None,\n",
      " 'clusters': None,\n",
      " 'found': 16549,\n",
      " 'items': [{'address': None,\n",
      "            'alternate_url': 'https://hh.ru/vacancy/30188755',\n",
      "            'apply_alternate_url': 'https://hh.ru/applicant/vacancy_response?vacancyId=30188755',\n",
      "            'archived': False,\n",
      "            'area': {'id': '1002',\n",
      "                     'name': 'Минск',\n",
      "                     'url': 'https://api.hh.ru/areas/1002'},\n",
      "            'contacts': {'email': 'contact@shinomontaj.by',\n",
      "                         'name': 'Vadim Nikolaevich',\n",
      "                         'phones': [{'city': '29',\n",
      "                                     'comment': 'приглашаем '\n",
      "                                                'автоэлектрика-диагноста, '\n",
      "                                                'автослесаря, адрес СТО: ул. '\n",
      "                                                'К.Либкнехта,77А',\n",
      "                                     'country': '375',\n",
      "                                     'number': '33-999-11'}]},\n",
      "            'created_at': '2019-02-24T13:18:43+0300',\n",
      "            'department': None,\n",
      "            'employer': {'alternate_url': 'https://hh.ru/employer/1910649',\n",
      "                         'id': '1910649',\n",
      "                         'logo_urls': None,\n",
      "                         'name': 'ПартнёрСити',\n",
      "                         'trusted': True,\n",
      "                         'url': 'https://api.hh.ru/employers/1910649',\n",
      "                         'vacancies_url': 'https://api.hh.ru/vacancies?employer_id=1910649'},\n",
      "            'has_test': False,\n",
      "            'id': '30188755',\n",
      "            'insider_interview': None,\n",
      "            'name': 'Автоэлектрик-диагност',\n",
      "            'premium': False,\n",
      "            'published_at': '2019-02-24T13:18:43+0300',\n",
      "            'relations': [],\n",
      "            'response_letter_required': False,\n",
      "            'response_url': None,\n",
      "            'salary': None,\n",
      "            'snippet': {'requirement': 'Опыт работы, хороший уровень '\n",
      "                                       'подготовки в сфере ремонта '\n",
      "                                       'автомобилей. Ответственность, '\n",
      "                                       'исполнительность, пунктуальность.',\n",
      "                        'responsibility': 'Диагностика неисправностей систем и '\n",
      "                                          'узлов автомобилей, с последующим '\n",
      "                                          'устранением неисправностей.'},\n",
      "            'sort_point_distance': None,\n",
      "            'type': {'id': 'open', 'name': 'Открытая'},\n",
      "            'url': 'https://api.hh.ru/vacancies/30188755?host=hh.ru'}],\n",
      " 'page': 0,\n",
      " 'pages': 2000,\n",
      " 'per_page': 1}\n"
     ]
    }
   ],
   "source": [
    "url = 'https://api.hh.ru/vacancies?specialization=7&per_page=1&page=0'\n",
    "request = requests.get(url)\n",
    "pprint(request.json())"
   ]
  },
  {
   "cell_type": "code",
   "execution_count": 55,
   "metadata": {
    "scrolled": true
   },
   "outputs": [
    {
     "name": "stdout",
     "output_type": "stream",
     "text": [
      "{'accept_handicapped': False,\n",
      " 'accept_incomplete_resumes': True,\n",
      " 'accept_kids': False,\n",
      " 'address': None,\n",
      " 'allow_messages': True,\n",
      " 'alternate_url': 'https://hh.ru/vacancy/30188755',\n",
      " 'apply_alternate_url': 'https://hh.ru/applicant/vacancy_response?vacancyId=30188755',\n",
      " 'archived': False,\n",
      " 'area': {'id': '1002', 'name': 'Минск', 'url': 'https://api.hh.ru/areas/1002'},\n",
      " 'billing_type': {'id': 'free', 'name': 'Бесплатная'},\n",
      " 'branded_description': None,\n",
      " 'code': 'Автомобильный бизнес',\n",
      " 'contacts': {'email': 'contact@shinomontaj.by',\n",
      "              'name': 'Vadim Nikolaevich',\n",
      "              'phones': [{'city': '29',\n",
      "                          'comment': 'приглашаем автоэлектрика-диагноста, '\n",
      "                                     'автослесаря, адрес СТО: ул. '\n",
      "                                     'К.Либкнехта,77А',\n",
      "                          'country': '375',\n",
      "                          'number': '33-999-11'}]},\n",
      " 'created_at': '2019-02-24T13:18:43+0300',\n",
      " 'department': None,\n",
      " 'description': '<strong>Обязанности:</strong> <ul> <li>Диагностика '\n",
      "                'неисправностей систем и узлов автомобилей, с последующим '\n",
      "                'устранением неисправностей.</li> </ul> '\n",
      "                '<strong>Требования:</strong> <ul> <li>Опыт работы, хороший '\n",
      "                'уровень подготовки в сфере ремонта автомобилей.</li> '\n",
      "                '<li>Ответственность, исполнительность, пунктуальность</li> '\n",
      "                '</ul> <strong>Условия:</strong> <p>- условия труда (50х50) с '\n",
      "                'Вашим инструментом, (30х70) - с нашим.</p> <p>- отдельный '\n",
      "                'отапливаемый бокс + комната</p> <p>- ножничный подъёмник ( '\n",
      "                'выс. подъёма1.8 метра)</p>',\n",
      " 'driver_license_types': [],\n",
      " 'employer': {'alternate_url': 'https://hh.ru/employer/1910649',\n",
      "              'id': '1910649',\n",
      "              'logo_urls': None,\n",
      "              'name': 'ПартнёрСити',\n",
      "              'trusted': True,\n",
      "              'url': 'https://api.hh.ru/employers/1910649',\n",
      "              'vacancies_url': 'https://api.hh.ru/vacancies?employer_id=1910649'},\n",
      " 'employment': {'id': 'full', 'name': 'Полная занятость'},\n",
      " 'experience': {'id': 'between3And6', 'name': 'От 3 до 6 лет'},\n",
      " 'has_test': False,\n",
      " 'hidden': False,\n",
      " 'id': '30188755',\n",
      " 'insider_interview': None,\n",
      " 'key_skills': [],\n",
      " 'name': 'Автоэлектрик-диагност',\n",
      " 'negotiations_url': None,\n",
      " 'premium': False,\n",
      " 'published_at': '2019-02-24T13:18:43+0300',\n",
      " 'quick_responses_allowed': False,\n",
      " 'relations': [],\n",
      " 'response_letter_required': False,\n",
      " 'response_url': None,\n",
      " 'salary': None,\n",
      " 'schedule': {'id': 'fullDay', 'name': 'Полный день'},\n",
      " 'site': {'id': 'hh', 'name': 'hh.ru'},\n",
      " 'specializations': [{'id': '7.503',\n",
      "                      'name': 'Автослесарь',\n",
      "                      'profarea_id': '7',\n",
      "                      'profarea_name': 'Автомобильный бизнес'}],\n",
      " 'suitable_resumes_url': None,\n",
      " 'test': None,\n",
      " 'type': {'id': 'open', 'name': 'Открытая'}}\n"
     ]
    }
   ],
   "source": [
    "vacancy_id = request.json()['items'][0]['alternate_url'].replace('https://hh.ru/vacancy/','')\n",
    "vacancy_url = 'https://api.hh.ru/vacancies/' + vacancy_id\n",
    "request = requests.get(vacancy_url)\n",
    "pprint(request.json())"
   ]
  },
  {
   "cell_type": "code",
   "execution_count": null,
   "metadata": {},
   "outputs": [],
   "source": []
  }
 ],
 "metadata": {
  "kernelspec": {
   "display_name": "Python 3",
   "language": "python",
   "name": "python3"
  },
  "language_info": {
   "codemirror_mode": {
    "name": "ipython",
    "version": 3
   },
   "file_extension": ".py",
   "mimetype": "text/x-python",
   "name": "python",
   "nbconvert_exporter": "python",
   "pygments_lexer": "ipython3",
   "version": "3.6.4"
  }
 },
 "nbformat": 4,
 "nbformat_minor": 2
}
