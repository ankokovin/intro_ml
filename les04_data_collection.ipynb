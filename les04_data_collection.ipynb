{
 "cells": [
  {
   "cell_type": "markdown",
   "metadata": {},
   "source": [
    "# Сбор данных"
   ]
  },
  {
   "cell_type": "code",
   "execution_count": 1,
   "metadata": {},
   "outputs": [],
   "source": [
    "import pandas as pd\n",
    "import numpy as np\n",
    "from bs4 import BeautifulSoup\n",
    "from IPython.core.display import HTML\n",
    "import requests\n",
    "import lxml.html\n",
    "from pprint import pprint"
   ]
  },
  {
   "cell_type": "markdown",
   "metadata": {},
   "source": [
    "### Обработка html-страниц\n",
    "### hh.ru"
   ]
  },
  {
   "cell_type": "code",
   "execution_count": 2,
   "metadata": {},
   "outputs": [
    {
     "data": {
      "text/html": [
       "<div>\n",
       "<style scoped>\n",
       "    .dataframe tbody tr th:only-of-type {\n",
       "        vertical-align: middle;\n",
       "    }\n",
       "\n",
       "    .dataframe tbody tr th {\n",
       "        vertical-align: top;\n",
       "    }\n",
       "\n",
       "    .dataframe thead th {\n",
       "        text-align: right;\n",
       "    }\n",
       "</style>\n",
       "<table border=\"1\" class=\"dataframe\">\n",
       "  <thead>\n",
       "    <tr style=\"text-align: right;\">\n",
       "      <th></th>\n",
       "      <th>vacancy</th>\n",
       "      <th>desription</th>\n",
       "    </tr>\n",
       "  </thead>\n",
       "  <tbody>\n",
       "    <tr>\n",
       "      <th>0</th>\n",
       "      <td>python-разработчик</td>\n",
       "      <td>Мы ищем ведущего разработчика для продуктивн...</td>\n",
       "    </tr>\n",
       "    <tr>\n",
       "      <th>1</th>\n",
       "      <td>python-разработчик</td>\n",
       "      <td>Обязанности:  Разработка проектов на Django/Fl...</td>\n",
       "    </tr>\n",
       "    <tr>\n",
       "      <th>2</th>\n",
       "      <td>devops</td>\n",
       "      <td>Мы ищем Devops Engineer для участия в развитии...</td>\n",
       "    </tr>\n",
       "    <tr>\n",
       "      <th>3</th>\n",
       "      <td>devops</td>\n",
       "      <td>Требуемый опыт работы: от 2 лет Полная занятос...</td>\n",
       "    </tr>\n",
       "  </tbody>\n",
       "</table>\n",
       "</div>"
      ],
      "text/plain": [
       "              vacancy                                         desription\n",
       "0  python-разработчик    Мы ищем ведущего разработчика для продуктивн...\n",
       "1  python-разработчик  Обязанности:  Разработка проектов на Django/Fl...\n",
       "2              devops  Мы ищем Devops Engineer для участия в развитии...\n",
       "3              devops  Требуемый опыт работы: от 2 лет Полная занятос..."
      ]
     },
     "execution_count": 2,
     "metadata": {},
     "output_type": "execute_result"
    }
   ],
   "source": [
    "headers = {\n",
    "    'User-Agent':'Mozilla/5.0 (Windows NT 6.0; rv:14.0) Gecko/20100101 Firefox/14.0.1',\n",
    "    'Accept': 'text/html,application/xhtml+xml,application/xml;q=0.9,*/*;q=0.8',\n",
    "    'Accept-Language':'ru-ru,ru;q=0.8,en-us;q=0.5,en;q=0.3',\n",
    "    'Accept-Encoding':'gzip, deflate',\n",
    "    'Connection':'keep-alive',\n",
    "    'DNT':'1'\n",
    "}\n",
    "\n",
    "vacancies = ['python-разработчик', 'devops']\n",
    "df = pd.DataFrame(columns=['vacancy', 'desription'])\n",
    "for vacancy in vacancies:\n",
    "    url = 'https://hh.ru/search/vacancy?clusters=true&text=' + vacancy + '&enable_snippets=true&page=0&search_field=name&no_magic=true'\n",
    "    request = requests.get(url, headers=headers)\n",
    "    soup = BeautifulSoup(request.text, 'lxml')\n",
    "    css_selector_vacancy_urls = '.HH-LinkModifier'\n",
    "    vacancy_urls = list(map(lambda x: x['href'], soup.select(css_selector_vacancy_urls)))\n",
    "    for url in vacancy_urls[:2]:\n",
    "        request = requests.get(url, headers=headers)\n",
    "        soup = BeautifulSoup(request.text, 'lxml')\n",
    "        css_selector_desription = '.g-user-content'\n",
    "        vacancy_text = soup.select(css_selector_desription)[0].text\n",
    "        df.loc[len(df)] = [vacancy, vacancy_text]\n",
    "df"
   ]
  },
  {
   "cell_type": "markdown",
   "metadata": {},
   "source": [
    "### imdb.com"
   ]
  },
  {
   "cell_type": "code",
   "execution_count": 3,
   "metadata": {},
   "outputs": [
    {
     "data": {
      "text/html": [
       "<div>\n",
       "<style scoped>\n",
       "    .dataframe tbody tr th:only-of-type {\n",
       "        vertical-align: middle;\n",
       "    }\n",
       "\n",
       "    .dataframe tbody tr th {\n",
       "        vertical-align: top;\n",
       "    }\n",
       "\n",
       "    .dataframe thead th {\n",
       "        text-align: right;\n",
       "    }\n",
       "</style>\n",
       "<table border=\"1\" class=\"dataframe\">\n",
       "  <thead>\n",
       "    <tr style=\"text-align: right;\">\n",
       "      <th></th>\n",
       "      <th>title</th>\n",
       "      <th>overview</th>\n",
       "    </tr>\n",
       "  </thead>\n",
       "  <tbody>\n",
       "    <tr>\n",
       "      <th>0</th>\n",
       "      <td>Balto</td>\n",
       "      <td>An outcast half-wolf risks his life to prevent...</td>\n",
       "    </tr>\n",
       "    <tr>\n",
       "      <th>1</th>\n",
       "      <td>Hellboy</td>\n",
       "      <td>Based on the graphic novels by Mike Mignola, H...</td>\n",
       "    </tr>\n",
       "    <tr>\n",
       "      <th>2</th>\n",
       "      <td>Fargo</td>\n",
       "      <td>Various chronicles of deception, intrigue and ...</td>\n",
       "    </tr>\n",
       "    <tr>\n",
       "      <th>3</th>\n",
       "      <td>Aliens</td>\n",
       "      <td>Ellen Ripley is rescued by a deep salvage team...</td>\n",
       "    </tr>\n",
       "  </tbody>\n",
       "</table>\n",
       "</div>"
      ],
      "text/plain": [
       "     title                                           overview\n",
       "0    Balto  An outcast half-wolf risks his life to prevent...\n",
       "1  Hellboy  Based on the graphic novels by Mike Mignola, H...\n",
       "2    Fargo  Various chronicles of deception, intrigue and ...\n",
       "3   Aliens  Ellen Ripley is rescued by a deep salvage team..."
      ]
     },
     "execution_count": 3,
     "metadata": {},
     "output_type": "execute_result"
    }
   ],
   "source": [
    "films = ['Balto', 'Hellboy', 'Fargo', 'Aliens']\n",
    "df = pd.DataFrame(columns=['title', 'overview'])\n",
    "for film in films:\n",
    "    url = 'https://www.imdb.com/find?ref_=nv_sr_fn&q=' + film + '&s=all'\n",
    "    request = requests.get(url, headers=headers)\n",
    "    soup = BeautifulSoup(request.text, 'lxml')\n",
    "    css_selector_film_url = '.result_text a'\n",
    "    film_url = 'https://www.imdb.com' + soup.select(css_selector_film_url)[0]['href']\n",
    "    request = requests.get(film_url, headers=headers)\n",
    "    soup = BeautifulSoup(request.text, 'lxml')\n",
    "    css_selector_overview = '.summary_text'\n",
    "    overview_text = soup.select(css_selector_overview)[0].text.strip()\n",
    "    df.loc[len(df)] = [film, overview_text]\n",
    "df"
   ]
  },
  {
   "cell_type": "markdown",
   "metadata": {},
   "source": [
    "## Обработка json\n",
    "### api.hh.ru\n",
    "https://github.com/hhru/api"
   ]
  },
  {
   "cell_type": "code",
   "execution_count": 6,
   "metadata": {
    "scrolled": true
   },
   "outputs": [
    {
     "name": "stdout",
     "output_type": "stream",
     "text": [
      "{'alternate_url': 'https://hh.ru/search/vacancy?enable_snippets=true&industry=7&items_on_page=1',\n",
      " 'arguments': None,\n",
      " 'clusters': None,\n",
      " 'found': 55395,\n",
      " 'items': [{'address': None,\n",
      "            'alternate_url': 'https://hh.ru/vacancy/30592820',\n",
      "            'apply_alternate_url': 'https://hh.ru/applicant/vacancy_response?vacancyId=30592820',\n",
      "            'archived': False,\n",
      "            'area': {'id': '10',\n",
      "                     'name': 'Горно-Алтайск',\n",
      "                     'url': 'https://api.hh.ru/areas/10'},\n",
      "            'contacts': None,\n",
      "            'created_at': '2019-03-16T11:37:50+0300',\n",
      "            'department': None,\n",
      "            'employer': {'alternate_url': 'https://hh.ru/employer/1740',\n",
      "                         'id': '1740',\n",
      "                         'logo_urls': {'240': 'https://hhcdn.ru/employer-logo/289170.png',\n",
      "                                       '90': 'https://hhcdn.ru/employer-logo/289028.png',\n",
      "                                       'original': 'https://hhcdn.ru/employer-logo-original/232732.gif'},\n",
      "                         'name': 'Яндекс',\n",
      "                         'trusted': True,\n",
      "                         'url': 'https://api.hh.ru/employers/1740',\n",
      "                         'vacancies_url': 'https://api.hh.ru/vacancies?employer_id=1740'},\n",
      "            'has_test': False,\n",
      "            'id': '30592820',\n",
      "            'insider_interview': None,\n",
      "            'name': 'Оператор саll-центра',\n",
      "            'premium': False,\n",
      "            'published_at': '2019-03-16T11:37:50+0300',\n",
      "            'relations': [],\n",
      "            'response_letter_required': False,\n",
      "            'response_url': None,\n",
      "            'salary': None,\n",
      "            'snippet': {'requirement': 'Грамотный устный и письменный русский '\n",
      "                                       'язык. Навыки уверенной работы на '\n",
      "                                       'компьютере. Ноутбук или стационарный '\n",
      "                                       'компьютер и гарнитура. Подключенный '\n",
      "                                       'кабельный высокоскоростной...',\n",
      "                        'responsibility': 'Звонить в организации из нашей базы '\n",
      "                                          'и проверять актуальность данных. '\n",
      "                                          'Редактировать сведения о '\n",
      "                                          'компаниях.'},\n",
      "            'sort_point_distance': None,\n",
      "            'type': {'id': 'open', 'name': 'Открытая'},\n",
      "            'url': 'https://api.hh.ru/vacancies/30592820?host=hh.ru'}],\n",
      " 'page': 0,\n",
      " 'pages': 2000,\n",
      " 'per_page': 1}\n"
     ]
    }
   ],
   "source": [
    "url = 'https://api.hh.ru/vacancies?industry=7&per_page=1&page=0'\n",
    "request = requests.get(url)\n",
    "pprint(request.json())"
   ]
  },
  {
   "cell_type": "code",
   "execution_count": 7,
   "metadata": {
    "scrolled": true
   },
   "outputs": [
    {
     "name": "stdout",
     "output_type": "stream",
     "text": [
      "{'accept_handicapped': False,\n",
      " 'accept_incomplete_resumes': False,\n",
      " 'accept_kids': False,\n",
      " 'address': None,\n",
      " 'allow_messages': True,\n",
      " 'alternate_url': 'https://hh.ru/vacancy/30592820',\n",
      " 'apply_alternate_url': 'https://hh.ru/applicant/vacancy_response?vacancyId=30592820',\n",
      " 'archived': False,\n",
      " 'area': {'id': '10',\n",
      "          'name': 'Горно-Алтайск',\n",
      "          'url': 'https://api.hh.ru/areas/10'},\n",
      " 'billing_type': {'id': 'standard', 'name': 'Стандарт'},\n",
      " 'branded_description': None,\n",
      " 'code': None,\n",
      " 'contacts': None,\n",
      " 'created_at': '2019-03-16T11:37:50+0300',\n",
      " 'department': None,\n",
      " 'description': '<p>Ежедневно миллионы людей ищут различные организации. Самый '\n",
      "                'простой способ найти нужную — воспользоваться сервисом '\n",
      "                'Яндекс. Справочник, который является крупнейшим каталогом '\n",
      "                'организаций в рунете. Операторы колл-центра следят за тем, '\n",
      "                'чтобы информация в Справочнике была верной и актуальной.</p> '\n",
      "                '<p> </p> <p>Наша вакансия идеально подойдет тем, кто ищет '\n",
      "                'стабильную надомную работу. Если вам нравится общаться с '\n",
      "                'людьми, вы внимательны, сообразительны и усидчивы, мы '\n",
      "                'предлагаем вам принять участие в конкурсе на вакансию '\n",
      "                'оператора колл-центра.</p> <p> </p> <p><strong>Задачи '\n",
      "                'оператора:</strong></p> <p> </p> <ul> <li>звонить в '\n",
      "                'организации из нашей базы и проверять актуальность '\n",
      "                'данных;</li> <li>редактировать сведения о компаниях.</li> '\n",
      "                '</ul> <p> </p> <p><strong>Вам потребуются:</strong></p> <p> '\n",
      "                '</p> <ul> <li>грамотный устный и письменный русский '\n",
      "                'язык;</li> <li>навыки уверенной работы на компьютере;</li> '\n",
      "                '<li>ноутбук или стационарный компьютер и гарнитура;</li> '\n",
      "                '<li>подключенный кабельный высокоскоростной интернет;</li> '\n",
      "                '</ul> <p> </p> <p><strong>Наш идеальный '\n",
      "                'кандидат:</strong></p> <p> </p> <ul> <li>ставит перед собой '\n",
      "                'цели и достигает их;</li> <li>предпочитает выполнять '\n",
      "                'однообразную работу;</li> <li>обладает врожденной '\n",
      "                'внимательностью к деталям;</li> <li>умеет ответственно '\n",
      "                'относиться к выполнению задач;</li> <li>способен '\n",
      "                'самостоятельно организовать свою работу дома;</li> '\n",
      "                '<li>стремится приобретать новые знания и навыки.</li> </ul> '\n",
      "                '<p> </p> <p><strong>Мы предлагаем:</strong></p> <p> </p> <ul> '\n",
      "                '<li>надомную работу;</li> <li>частичную занятость;</li> '\n",
      "                '<li>официальное оформление по совместительству;</li> '\n",
      "                '<li>сдельную оплату труда;</li> <li>обучение за счет '\n",
      "                'компании.</li> </ul>',\n",
      " 'driver_license_types': [],\n",
      " 'employer': {'alternate_url': 'https://hh.ru/employer/1740',\n",
      "              'id': '1740',\n",
      "              'logo_urls': {'240': 'https://hhcdn.ru/employer-logo/289170.png',\n",
      "                            '90': 'https://hhcdn.ru/employer-logo/289028.png',\n",
      "                            'original': 'https://hhcdn.ru/employer-logo-original/232732.gif'},\n",
      "              'name': 'Яндекс',\n",
      "              'trusted': True,\n",
      "              'url': 'https://api.hh.ru/employers/1740',\n",
      "              'vacancies_url': 'https://api.hh.ru/vacancies?employer_id=1740'},\n",
      " 'employment': {'id': 'part', 'name': 'Частичная занятость'},\n",
      " 'experience': {'id': 'noExperience', 'name': 'Нет опыта'},\n",
      " 'has_test': False,\n",
      " 'hidden': False,\n",
      " 'id': '30592820',\n",
      " 'insider_interview': None,\n",
      " 'key_skills': [],\n",
      " 'name': 'Оператор саll-центра',\n",
      " 'negotiations_url': None,\n",
      " 'premium': False,\n",
      " 'published_at': '2019-03-16T11:37:50+0300',\n",
      " 'quick_responses_allowed': False,\n",
      " 'relations': [],\n",
      " 'response_letter_required': False,\n",
      " 'response_url': None,\n",
      " 'salary': None,\n",
      " 'schedule': {'id': 'remote', 'name': 'Удаленная работа'},\n",
      " 'site': {'id': 'hh', 'name': 'hh.ru'},\n",
      " 'specializations': [{'id': '4.47',\n",
      "                      'name': 'Ввод данных',\n",
      "                      'profarea_id': '4',\n",
      "                      'profarea_name': 'Административный персонал'},\n",
      "                     {'id': '4.278',\n",
      "                      'name': 'Сотрудник call-центра',\n",
      "                      'profarea_id': '4',\n",
      "                      'profarea_name': 'Административный персонал'},\n",
      "                     {'id': '4.264',\n",
      "                      'name': 'Секретарь',\n",
      "                      'profarea_id': '4',\n",
      "                      'profarea_name': 'Административный персонал'}],\n",
      " 'suitable_resumes_url': None,\n",
      " 'test': None,\n",
      " 'type': {'id': 'open', 'name': 'Открытая'}}\n"
     ]
    }
   ],
   "source": [
    "vacancy_id = request.json()['items'][0]['alternate_url'].replace('https://hh.ru/vacancy/','')\n",
    "vacancy_url = 'https://api.hh.ru/vacancies/' + vacancy_id\n",
    "request = requests.get(vacancy_url)\n",
    "pprint(request.json())"
   ]
  },
  {
   "cell_type": "code",
   "execution_count": null,
   "metadata": {},
   "outputs": [],
   "source": []
  }
 ],
 "metadata": {
  "kernelspec": {
   "display_name": "Python 3",
   "language": "python",
   "name": "python3"
  },
  "language_info": {
   "codemirror_mode": {
    "name": "ipython",
    "version": 3
   },
   "file_extension": ".py",
   "mimetype": "text/x-python",
   "name": "python",
   "nbconvert_exporter": "python",
   "pygments_lexer": "ipython3",
   "version": "3.6.4"
  }
 },
 "nbformat": 4,
 "nbformat_minor": 2
}
