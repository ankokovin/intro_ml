{
 "cells": [
  {
   "cell_type": "markdown",
   "metadata": {},
   "source": [
    "#  2.1 Графический анализ данных"
   ]
  },
  {
   "cell_type": "code",
   "execution_count": 1,
   "metadata": {},
   "outputs": [
    {
     "data": {
      "text/html": [
       "<script>requirejs.config({paths: { 'plotly': ['https://cdn.plot.ly/plotly-latest.min']},});if(!window.Plotly) {{require(['plotly'],function(plotly) {window.Plotly=plotly;});}}</script>"
      ],
      "text/vnd.plotly.v1+html": [
       "<script>requirejs.config({paths: { 'plotly': ['https://cdn.plot.ly/plotly-latest.min']},});if(!window.Plotly) {{require(['plotly'],function(plotly) {window.Plotly=plotly;});}}</script>"
      ]
     },
     "metadata": {},
     "output_type": "display_data"
    }
   ],
   "source": [
    "from plotly.offline import download_plotlyjs, init_notebook_mode, plot, iplot\n",
    "import plotly.graph_objs as go\n",
    "from collections import Counter\n",
    "import numpy as np\n",
    "\n",
    "init_notebook_mode(connected=True)"
   ]
  },
  {
   "cell_type": "markdown",
   "metadata": {},
   "source": [
    "### Виды случайной величины\n",
    "\n",
    "**Случайной величиной** называют величину, которая в результате испытания примет одно возможное значение, наперёд неизвестное и зависящее от случайных причин, которые заранее не могут быть учтены.\n",
    "\n",
    "Выпадение некоторого значения случайной величины Х это случайное событие: Х = хi. Среди случайных величин выделяют дискретные и непрерывные случайные величины.\n",
    "\n",
    "**Дискретной случайной величиной** называется случайная величина, которая в результате испытания принимает отдельные значения с определёнными вероятностями. Число возможных значений дискретной случайной величины может быть конечным и бесконечным. Примеры дискретной случайной величины: запись показаний спидометра или измеренной температуры в конкретные моменты времени.\n",
    "\n",
    "**Непрерывной случайной величиной** называют случайную величину, которая в результате испытания принимает все значения из некоторого числового промежутка. Число возможных значений непрерывной случайной величины бесконечно. Пример непрерывной случайной величины: измерение скорости перемещения любого вида транспорта или температуры в течение конкретного интервала времени.\n",
    "\n",
    "### Ряды распределений\n",
    "\n",
    "Выделяют три формы вариационного ряда: ранжированный ряд, дискретный ряд и интервальный ряд.\n",
    "\n",
    "**Ранжированный ряд** - это распределение отдельных единиц совокупности в порядке возрастания или убывания исследуемого признака. Ранжирование позволяет легко разделить количественные данные по группам, сразу обнаружить наименьшее и наибольшее значения признака, выделить значения, которые чаще всего повторяются.\n",
    "\n",
    "Другие формы вариационного ряда - групповые таблицы, составленные по характеру вариации значений изучаемого признака. По характеру вариации различают дискретные (прерывные) и непрерывные признаки.\n",
    "\n",
    "**Дискретный ряд** - это такой вариационный ряд, в основу построения которого положены признаки с прерывным изменением (дискретные признаки). К последним можно отнести тарифный разряд, количество детей в семье, число работников на предприятии и т.д. Эти признаки могут принимать только конечное число определенных значений.\n",
    "\n",
    "Дискретный вариационный ряд представляет таблицу, которая состоит из двух граф. В первой графе указывается конкретное значение признака, а во второй - число единиц совокупности с определенным значением признака.\n",
    "\n",
    "Если признак имеет непрерывное изменение (размер дохода, стаж работы, стоимость основных фондов предприятия и т.д., которые в определенных границах могут принимать любые значения), то для этого признака нужно строить **интервальный вариационный ряд**."
   ]
  },
  {
   "cell_type": "code",
   "execution_count": 2,
   "metadata": {},
   "outputs": [
    {
     "data": {
      "text/plain": [
       "Counter({2: 1, 4: 1, 5: 1, 6: 2, 7: 2, 8: 1, 10: 2, 12: 1})"
      ]
     },
     "execution_count": 2,
     "metadata": {},
     "output_type": "execute_result"
    }
   ],
   "source": [
    "discrete_series = [12, 8, 5, 10, 6, 2, 6, 7, 4, 7, 10]\n",
    "continuous_series = [2.1, 3.9, 5.2, 6.5, 6.3, 7.7, 7.2, 8.1, 10.1, 10.5, 12.9]\n",
    "rang_discrete_series = Counter(sorted(discrete_series))\n",
    "rang_discrete_series"
   ]
  },
  {
   "cell_type": "markdown",
   "metadata": {},
   "source": [
    "### Гистограммы"
   ]
  },
  {
   "cell_type": "code",
   "execution_count": 3,
   "metadata": {},
   "outputs": [
    {
     "data": {
      "application/vnd.plotly.v1+json": {
       "data": [
        {
         "type": "bar",
         "x": [
          2,
          4,
          5,
          6,
          7,
          8,
          10,
          12
         ],
         "y": [
          1,
          1,
          1,
          2,
          2,
          1,
          2,
          1
         ]
        }
       ],
       "layout": {}
      },
      "text/html": [
       "<div id=\"08df8a36-0304-4632-87ef-2822b722011b\" style=\"height: 525px; width: 100%;\" class=\"plotly-graph-div\"></div><script type=\"text/javascript\">require([\"plotly\"], function(Plotly) { window.PLOTLYENV=window.PLOTLYENV || {};window.PLOTLYENV.BASE_URL=\"https://plot.ly\";Plotly.newPlot(\"08df8a36-0304-4632-87ef-2822b722011b\", [{\"type\": \"bar\", \"x\": [2, 4, 5, 6, 7, 8, 10, 12], \"y\": [1, 1, 1, 2, 2, 1, 2, 1]}], {}, {\"showLink\": true, \"linkText\": \"Export to plot.ly\"})});</script>"
      ],
      "text/vnd.plotly.v1+html": [
       "<div id=\"08df8a36-0304-4632-87ef-2822b722011b\" style=\"height: 525px; width: 100%;\" class=\"plotly-graph-div\"></div><script type=\"text/javascript\">require([\"plotly\"], function(Plotly) { window.PLOTLYENV=window.PLOTLYENV || {};window.PLOTLYENV.BASE_URL=\"https://plot.ly\";Plotly.newPlot(\"08df8a36-0304-4632-87ef-2822b722011b\", [{\"type\": \"bar\", \"x\": [2, 4, 5, 6, 7, 8, 10, 12], \"y\": [1, 1, 1, 2, 2, 1, 2, 1]}], {}, {\"showLink\": true, \"linkText\": \"Export to plot.ly\"})});</script>"
      ]
     },
     "metadata": {},
     "output_type": "display_data"
    }
   ],
   "source": [
    "iplot([go.Bar(x=list(rang_discrete_series.keys()),\n",
    "              y=list(rang_discrete_series.values()))])"
   ]
  },
  {
   "cell_type": "code",
   "execution_count": 4,
   "metadata": {},
   "outputs": [
    {
     "data": {
      "application/vnd.plotly.v1+json": {
       "data": [
        {
         "type": "histogram",
         "x": [
          2.1,
          3.9,
          5.2,
          6.5,
          6.3,
          7.7,
          7.2,
          8.1,
          10.1,
          10.5,
          12.9
         ],
         "xbins": {
          "size": 3
         }
        }
       ],
       "layout": {}
      },
      "text/html": [
       "<div id=\"2e64bf61-a48d-4ad9-a7de-ab1230155390\" style=\"height: 525px; width: 100%;\" class=\"plotly-graph-div\"></div><script type=\"text/javascript\">require([\"plotly\"], function(Plotly) { window.PLOTLYENV=window.PLOTLYENV || {};window.PLOTLYENV.BASE_URL=\"https://plot.ly\";Plotly.newPlot(\"2e64bf61-a48d-4ad9-a7de-ab1230155390\", [{\"type\": \"histogram\", \"x\": [2.1, 3.9, 5.2, 6.5, 6.3, 7.7, 7.2, 8.1, 10.1, 10.5, 12.9], \"xbins\": {\"size\": 3}}], {}, {\"showLink\": true, \"linkText\": \"Export to plot.ly\"})});</script>"
      ],
      "text/vnd.plotly.v1+html": [
       "<div id=\"2e64bf61-a48d-4ad9-a7de-ab1230155390\" style=\"height: 525px; width: 100%;\" class=\"plotly-graph-div\"></div><script type=\"text/javascript\">require([\"plotly\"], function(Plotly) { window.PLOTLYENV=window.PLOTLYENV || {};window.PLOTLYENV.BASE_URL=\"https://plot.ly\";Plotly.newPlot(\"2e64bf61-a48d-4ad9-a7de-ab1230155390\", [{\"type\": \"histogram\", \"x\": [2.1, 3.9, 5.2, 6.5, 6.3, 7.7, 7.2, 8.1, 10.1, 10.5, 12.9], \"xbins\": {\"size\": 3}}], {}, {\"showLink\": true, \"linkText\": \"Export to plot.ly\"})});</script>"
      ]
     },
     "metadata": {},
     "output_type": "display_data"
    }
   ],
   "source": [
    "iplot([go.Histogram(x=continuous_series,\n",
    "                    xbins=dict(size=3))])"
   ]
  },
  {
   "cell_type": "markdown",
   "metadata": {},
   "source": [
    "### Ящик с усами"
   ]
  },
  {
   "cell_type": "code",
   "execution_count": 5,
   "metadata": {},
   "outputs": [
    {
     "data": {
      "application/vnd.plotly.v1+json": {
       "data": [
        {
         "boxpoints": "all",
         "name": "discrete_series",
         "pointpos": -1.5,
         "type": "box",
         "y": [
          12,
          8,
          5,
          10,
          6,
          2,
          6,
          7,
          4,
          7,
          10
         ]
        }
       ],
       "layout": {
        "boxgap": 0.8
       }
      },
      "text/html": [
       "<div id=\"3ca2abe6-9796-44a7-a3c2-95e93c9cc5f3\" style=\"height: 525px; width: 100%;\" class=\"plotly-graph-div\"></div><script type=\"text/javascript\">require([\"plotly\"], function(Plotly) { window.PLOTLYENV=window.PLOTLYENV || {};window.PLOTLYENV.BASE_URL=\"https://plot.ly\";Plotly.newPlot(\"3ca2abe6-9796-44a7-a3c2-95e93c9cc5f3\", [{\"type\": \"box\", \"y\": [12, 8, 5, 10, 6, 2, 6, 7, 4, 7, 10], \"boxpoints\": \"all\", \"pointpos\": -1.5, \"name\": \"discrete_series\"}], {\"boxgap\": 0.8}, {\"showLink\": true, \"linkText\": \"Export to plot.ly\"})});</script>"
      ],
      "text/vnd.plotly.v1+html": [
       "<div id=\"3ca2abe6-9796-44a7-a3c2-95e93c9cc5f3\" style=\"height: 525px; width: 100%;\" class=\"plotly-graph-div\"></div><script type=\"text/javascript\">require([\"plotly\"], function(Plotly) { window.PLOTLYENV=window.PLOTLYENV || {};window.PLOTLYENV.BASE_URL=\"https://plot.ly\";Plotly.newPlot(\"3ca2abe6-9796-44a7-a3c2-95e93c9cc5f3\", [{\"type\": \"box\", \"y\": [12, 8, 5, 10, 6, 2, 6, 7, 4, 7, 10], \"boxpoints\": \"all\", \"pointpos\": -1.5, \"name\": \"discrete_series\"}], {\"boxgap\": 0.8}, {\"showLink\": true, \"linkText\": \"Export to plot.ly\"})});</script>"
      ]
     },
     "metadata": {},
     "output_type": "display_data"
    }
   ],
   "source": [
    "data_box = [go.Box(y=discrete_series,\n",
    "                   boxpoints='all',\n",
    "                   pointpos=-1.5,\n",
    "                   name='discrete_series')]\n",
    "layout_box = go.Layout(boxgap=0.8)\n",
    "\n",
    "iplot(go.Figure(data=data_box, layout=layout_box))"
   ]
  },
  {
   "cell_type": "code",
   "execution_count": 6,
   "metadata": {},
   "outputs": [
    {
     "data": {
      "application/vnd.plotly.v1+json": {
       "data": [
        {
         "boxpoints": "all",
         "name": "discrete_series",
         "pointpos": -1.5,
         "type": "box",
         "y": [
          12,
          8,
          5,
          10,
          6,
          2,
          6,
          7,
          4,
          7,
          10
         ]
        },
        {
         "boxpoints": "all",
         "name": "discrete_series_with_outlier",
         "pointpos": -1.5,
         "type": "box",
         "y": [
          12,
          8,
          5,
          10,
          6,
          2,
          6,
          7,
          4,
          7,
          10,
          18
         ]
        }
       ],
       "layout": {
        "boxgap": 0.7
       }
      },
      "text/html": [
       "<div id=\"abfc2776-0277-4a14-8c30-8daccb0a45c4\" style=\"height: 525px; width: 100%;\" class=\"plotly-graph-div\"></div><script type=\"text/javascript\">require([\"plotly\"], function(Plotly) { window.PLOTLYENV=window.PLOTLYENV || {};window.PLOTLYENV.BASE_URL=\"https://plot.ly\";Plotly.newPlot(\"abfc2776-0277-4a14-8c30-8daccb0a45c4\", [{\"type\": \"box\", \"y\": [12, 8, 5, 10, 6, 2, 6, 7, 4, 7, 10], \"boxpoints\": \"all\", \"pointpos\": -1.5, \"name\": \"discrete_series\"}, {\"type\": \"box\", \"y\": [12, 8, 5, 10, 6, 2, 6, 7, 4, 7, 10, 18], \"boxpoints\": \"all\", \"pointpos\": -1.5, \"name\": \"discrete_series_with_outlier\"}], {\"boxgap\": 0.7}, {\"showLink\": true, \"linkText\": \"Export to plot.ly\"})});</script>"
      ],
      "text/vnd.plotly.v1+html": [
       "<div id=\"abfc2776-0277-4a14-8c30-8daccb0a45c4\" style=\"height: 525px; width: 100%;\" class=\"plotly-graph-div\"></div><script type=\"text/javascript\">require([\"plotly\"], function(Plotly) { window.PLOTLYENV=window.PLOTLYENV || {};window.PLOTLYENV.BASE_URL=\"https://plot.ly\";Plotly.newPlot(\"abfc2776-0277-4a14-8c30-8daccb0a45c4\", [{\"type\": \"box\", \"y\": [12, 8, 5, 10, 6, 2, 6, 7, 4, 7, 10], \"boxpoints\": \"all\", \"pointpos\": -1.5, \"name\": \"discrete_series\"}, {\"type\": \"box\", \"y\": [12, 8, 5, 10, 6, 2, 6, 7, 4, 7, 10, 18], \"boxpoints\": \"all\", \"pointpos\": -1.5, \"name\": \"discrete_series_with_outlier\"}], {\"boxgap\": 0.7}, {\"showLink\": true, \"linkText\": \"Export to plot.ly\"})});</script>"
      ]
     },
     "metadata": {},
     "output_type": "display_data"
    }
   ],
   "source": [
    "discrete_series_with_outlier = discrete_series+[18]\n",
    "data_box = [go.Box(y=discrete_series,\n",
    "                   boxpoints='all',\n",
    "                   pointpos=-1.5,\n",
    "                   name='discrete_series'),\n",
    "            go.Box(y=discrete_series_with_outlier,\n",
    "                   boxpoints='all',\n",
    "                   pointpos=-1.5,\n",
    "                  name='discrete_series_with_outlier')]\n",
    "layout_box = go.Layout(boxgap=0.7)\n",
    "\n",
    "iplot(go.Figure(data=data_box, layout=layout_box))"
   ]
  },
  {
   "cell_type": "markdown",
   "metadata": {},
   "source": [
    "### Удаление выбросов\n",
    "**Межквартильный размах** - это разность между третьим и первым квартилями, является характеристикой разброса распределения."
   ]
  },
  {
   "cell_type": "code",
   "execution_count": 7,
   "metadata": {},
   "outputs": [
    {
     "name": "stdout",
     "output_type": "stream",
     "text": [
      "upper_outer_fence:  22.75, \n",
      "upper_inner_fence:  16.375,\n",
      "lower_inner_fence:  -0.625,\n",
      "lower_outer_fence\"  -7.0\n",
      "discrete_series_with_outlier    [12, 8, 5, 10, 6, 2, 6, 7, 4, 7, 10, 18]\n",
      "discrete_series_without_outlier [12, 8, 5, 10, 6, 2, 6, 7, 4, 7, 10]\n"
     ]
    }
   ],
   "source": [
    "Q1, Q2, Q3 = np.percentile(discrete_series_with_outlier, [25, 50, 75])\n",
    "IQR = Q3 - Q1\n",
    "lower_inner_fence = Q1 - (1.5 * IQR)\n",
    "lower_outer_fence = Q1 - (3 * IQR)\n",
    "upper_inner_fence = Q3 + (1.5 * IQR)\n",
    "upper_outer_fence = Q3 + (3 * IQR)\n",
    "print(f'''upper_outer_fence:  {upper_outer_fence}, \n",
    "upper_inner_fence:  {upper_inner_fence},\n",
    "lower_inner_fence:  {lower_inner_fence},\n",
    "lower_outer_fence\"  {lower_outer_fence}''')\n",
    "print('discrete_series_with_outlier   ', discrete_series_with_outlier)\n",
    "print('discrete_series_without_outlier',\n",
    "      list(filter(lambda x: lower_inner_fence < x < upper_inner_fence,\n",
    "                  discrete_series_with_outlier)))"
   ]
  },
  {
   "cell_type": "markdown",
   "metadata": {},
   "source": [
    "# 2.2 Очистка данных\n",
    "### Сбор данных"
   ]
  },
  {
   "cell_type": "code",
   "execution_count": 8,
   "metadata": {},
   "outputs": [],
   "source": [
    "import requests\n",
    "import re\n",
    "from bs4 import BeautifulSoup\n",
    "from IPython.core.display import HTML\n",
    "from collections import Counter"
   ]
  },
  {
   "cell_type": "code",
   "execution_count": 9,
   "metadata": {},
   "outputs": [
    {
     "name": "stdout",
     "output_type": "stream",
     "text": [
      "Text: \n",
      "\n",
      "Здесь я расскажу и покажу в примерах на Python, зачем и как считать стандартный TF-IDF, а также его вариации. Примеры я буду давать по ходу объяснения. Чтобы их понять, нужно иметь представления о базовых понятиях языка программирования Python в версии 2.х либо 3.х (основные типы данных, основные \n",
      "\n",
      "Tokens:\n",
      "\n",
      " ['здесь', 'я', 'расскажу', 'и', 'покажу', 'в', 'примерах', 'на', 'python', 'зачем', 'и', 'как', 'считать', 'стандартный', 'tf', 'idf', 'а', 'также', 'его', 'вариации', 'примеры', 'я', 'буду', 'давать', 'по', 'ходу', 'объяснения', 'чтобы', 'их', 'понять', 'нужно', 'иметь', 'представления', 'о', 'базовых', 'понятиях', 'языка', 'программирования', 'python', 'в', 'версии', '2', 'х', 'либо', '3', 'х', 'основные', 'типы', 'данных', 'основные']\n"
     ]
    }
   ],
   "source": [
    "url_tf_idf = 'http://nlpx.net/archives/57'\n",
    "r = requests.get(url_tf_idf)\n",
    "soup = BeautifulSoup(r.text, 'lxml')\n",
    "text = ' '.join(map(lambda x: x.text, soup.select('.post-content')))\n",
    "print('Text:', text[:300])\n",
    "tokens = re.findall(r\"[\\w']+\", text.lower())\n",
    "print('\\nTokens:\\n\\n', tokens[:50])"
   ]
  },
  {
   "cell_type": "markdown",
   "metadata": {},
   "source": [
    "### Удаленеи выбросов\n",
    "**Стоп-слова** — слова, которые не несут никакой смысловой нагрузки. Их еще называют шумовыми словами. Например,в английском языке — это артикли, в русском — междометия, союзы, маты и т.д."
   ]
  },
  {
   "cell_type": "code",
   "execution_count": 10,
   "metadata": {
    "scrolled": true
   },
   "outputs": [
    {
     "data": {
      "text/plain": [
       "[('в', 43),\n",
       " ('0', 43),\n",
       " ('tf', 32),\n",
       " ('idf', 32),\n",
       " ('1', 32),\n",
       " (\"'la'\", 28),\n",
       " ('i', 27),\n",
       " ('text', 26),\n",
       " ('tf_text', 26),\n",
       " ('а', 24),\n",
       " ('и', 21),\n",
       " (\"'vista'\", 21),\n",
       " ('counter', 19),\n",
       " (\"'baby'\", 19),\n",
       " ('in', 18),\n",
       " ('документов', 17),\n",
       " ('количество', 17),\n",
       " ('corpus', 16),\n",
       " ('термин', 15),\n",
       " ('на', 14),\n",
       " ('можно', 14),\n",
       " ('термина', 14),\n",
       " ('для', 14),\n",
       " ('for', 13),\n",
       " (\"'hasta'\", 13),\n",
       " ('word', 13),\n",
       " ('слов', 12),\n",
       " ('compute_tf', 12),\n",
       " (\"'siempre'\", 12),\n",
       " ('это', 11),\n",
       " ('тексте', 11),\n",
       " ('import', 11),\n",
       " ('def', 11),\n",
       " ('return', 11),\n",
       " ('что', 10),\n",
       " ('встречается', 10),\n",
       " ('слова', 10),\n",
       " ('math', 10),\n",
       " ('2', 9),\n",
       " ('collections', 9),\n",
       " ('всех', 9),\n",
       " ('есть', 9),\n",
       " ('print', 9),\n",
       " ('out', 9),\n",
       " ('то', 8),\n",
       " ('или', 8),\n",
       " ('compute_idf', 8),\n",
       " ('5', 8),\n",
       " ('считать', 7),\n",
       " ('раз', 7),\n",
       " ('когда', 7),\n",
       " ('с', 7),\n",
       " ('логарифм', 7),\n",
       " ('texts', 7),\n",
       " ('la', 7),\n",
       " ('я', 6),\n",
       " ('как', 6),\n",
       " ('frequency', 6),\n",
       " ('встретился', 6),\n",
       " ('виде', 6),\n",
       " (\"'pasta'\", 6),\n",
       " (\"'comandante'\", 6),\n",
       " ('baby', 6),\n",
       " ('siempre', 6),\n",
       " ('частотность', 5),\n",
       " ('терминов', 5),\n",
       " ('слово', 5),\n",
       " ('очень', 5),\n",
       " ('расширения', 5),\n",
       " ('не', 5),\n",
       " ('общее', 5),\n",
       " ('считаем', 5),\n",
       " ('len', 5),\n",
       " ('мы', 5),\n",
       " ('которых', 5),\n",
       " ('log10', 5),\n",
       " ('if', 5),\n",
       " ('from', 5),\n",
       " ('лингвист', 5),\n",
       " ('таким', 5),\n",
       " ('образом', 5),\n",
       " ('по', 4),\n",
       " ('х', 4),\n",
       " ('же', 4),\n",
       " ('например', 4),\n",
       " ('если', 4),\n",
       " ('часто', 4),\n",
       " ('документах', 4),\n",
       " ('просто', 4),\n",
       " ('кода', 4),\n",
       " ('так', 4),\n",
       " ('встречаемости', 4),\n",
       " ('float', 4),\n",
       " ('текста', 4),\n",
       " ('sum', 4),\n",
       " ('comandante', 4),\n",
       " ('его', 3),\n",
       " ('нужно', 3),\n",
       " ('либо', 3),\n",
       " ('3', 3),\n",
       " ('списков', 3),\n",
       " ('вообще', 3),\n",
       " ('поэтому', 3),\n",
       " ('term', 3),\n",
       " ('inverse', 3),\n",
       " ('document', 3),\n",
       " ('документе', 3),\n",
       " ('во', 3),\n",
       " ('будет', 3),\n",
       " ('выглядеть', 3),\n",
       " ('каждого', 3),\n",
       " ('текстов', 3),\n",
       " ('этот', 3),\n",
       " ('documents_list', 3),\n",
       " ('tf_idf_dictionary', 3),\n",
       " ('computed_tf', 3),\n",
       " ('vista', 3),\n",
       " ('равняется', 3),\n",
       " ('всего', 3),\n",
       " ('измерения', 3),\n",
       " ('final_counter', 3),\n",
       " ('расчёта', 3),\n",
       " ('python', 2),\n",
       " ('зачем', 2),\n",
       " ('чтобы', 2),\n",
       " ('о', 2),\n",
       " ('основные', 2),\n",
       " ('данных', 2),\n",
       " ('словарей', 2),\n",
       " ('применять', 2),\n",
       " ('из', 2),\n",
       " ('библиотеки', 2),\n",
       " ('такое', 2),\n",
       " ('обратная', 2),\n",
       " ('важность', 2),\n",
       " ('документа', 2),\n",
       " ('относительно', 2),\n",
       " ('остальных', 2),\n",
       " ('принцип', 2),\n",
       " ('такой', 2),\n",
       " ('чем', 2),\n",
       " ('метрика', 2),\n",
       " ('предлоги', 2),\n",
       " ('потому', 2),\n",
       " ('встречаются', 2),\n",
       " ('некоторые', 2),\n",
       " ('этой', 2),\n",
       " ('использовать', 2),\n",
       " ('работы', 2),\n",
       " ('тональности', 2),\n",
       " ('измеряет', 2),\n",
       " ('может', 2),\n",
       " ('вход', 2),\n",
       " ('текст', 2),\n",
       " ('списка', 2),\n",
       " ('помощью', 2),\n",
       " ('деления', 2),\n",
       " ('возвращаем', 2),\n",
       " ('14285714285714285', 2),\n",
       " ('важности', 2),\n",
       " ('друг', 2),\n",
       " ('считается', 2),\n",
       " ('брать', 2),\n",
       " ('десятичный', 2),\n",
       " ('где', 2),\n",
       " ('47712125472', 2),\n",
       " ('затем', 2),\n",
       " ('умножаем', 2),\n",
       " ('корпусе', 2),\n",
       " ('список', 2),\n",
       " ('compute_tfidf', 2),\n",
       " ('pasta', 2),\n",
       " ('hasta', 2),\n",
       " ('100', 2),\n",
       " ('05', 2),\n",
       " ('у', 2),\n",
       " ('нас', 2),\n",
       " ('1000', 2),\n",
       " ('10', 2),\n",
       " ('вместо', 2),\n",
       " ('абстрактные', 2),\n",
       " ('конкретные', 2),\n",
       " ('стандартного', 2),\n",
       " ('алгоритма', 2),\n",
       " ('единицу', 2),\n",
       " ('без', 2),\n",
       " ('частоту', 2),\n",
       " ('частоты', 2),\n",
       " ('3010299956639813', 2),\n",
       " ('самый', 2),\n",
       " ('частотный', 2),\n",
       " ('most_common', 2),\n",
       " ('вариант', 2),\n",
       " ('размера', 2),\n",
       " ('data', 2),\n",
       " ('most_common_word', 2),\n",
       " ('используют', 2),\n",
       " ('англ', 2),\n",
       " ('примерами', 2),\n",
       " ('просмотров', 2)]"
      ]
     },
     "execution_count": 10,
     "metadata": {},
     "output_type": "execute_result"
    }
   ],
   "source": [
    "term_freq_dict = Counter(tokens)\n",
    "term_freq_tuple = [(key, value) for key, value in term_freq_dict.items()]\n",
    "sorted(term_freq_tuple, key=lambda x: x[1], reverse=True)[:200]"
   ]
  },
  {
   "cell_type": "code",
   "execution_count": 11,
   "metadata": {},
   "outputs": [
    {
     "name": "stdout",
     "output_type": "stream",
     "text": [
      "upper_outer_fence:  5.0, \n",
      "upper_inner_fence:  3.5,\n",
      "lower_inner_fence:  -0.5,\n",
      "lower_outer_fence\"  -2.0\n"
     ]
    }
   ],
   "source": [
    "Q1, Q2, Q3 = np.percentile(list(term_freq_dict.values()), [25, 50, 75])\n",
    "IQR = Q3 - Q1\n",
    "lower_inner_fence = Q1 - (1.5 * IQR)\n",
    "lower_outer_fence = Q1 - (3 * IQR)\n",
    "upper_inner_fence = Q3 + (1.5 * IQR)\n",
    "upper_outer_fence = Q3 + (3 * IQR)\n",
    "print(f'''upper_outer_fence:  {upper_outer_fence}, \n",
    "upper_inner_fence:  {upper_inner_fence},\n",
    "lower_inner_fence:  {lower_inner_fence},\n",
    "lower_outer_fence\"  {lower_outer_fence}''')"
   ]
  },
  {
   "cell_type": "markdown",
   "metadata": {},
   "source": [
    "### Дополнительно\n",
    "***N*-граммы** — последовательность из *n* элементов. С семантической точки зрения, это может быть последовательность звуков, слогов, слов или букв. На практике чаще встречается *N*-грамма как ряд слов, устойчивые словосочетания называют коллокацией. Последовательность из двух последовательных элементов часто называют биграмма, последовательность из трёх элементов называется триграмма.  \n",
    "**TF-IDF** — статистическая мера, используемая для оценки важности слова в контексте документа, являющегося частью коллекции документов или корпуса. Вес некоторого слова пропорционален частоте употребления этого слова в документе и обратно пропорционален частоте употребления слова во всех документах коллекции."
   ]
  },
  {
   "cell_type": "code",
   "execution_count": null,
   "metadata": {},
   "outputs": [],
   "source": []
  }
 ],
 "metadata": {
  "kernelspec": {
   "display_name": "Python 3",
   "language": "python",
   "name": "python3"
  },
  "language_info": {
   "codemirror_mode": {
    "name": "ipython",
    "version": 3
   },
   "file_extension": ".py",
   "mimetype": "text/x-python",
   "name": "python",
   "nbconvert_exporter": "python",
   "pygments_lexer": "ipython3",
   "version": "3.6.4"
  }
 },
 "nbformat": 4,
 "nbformat_minor": 2
}
