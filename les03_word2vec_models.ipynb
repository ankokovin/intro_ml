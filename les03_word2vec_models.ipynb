{
 "cells": [
  {
   "cell_type": "markdown",
   "metadata": {},
   "source": [
    "## Word2vec models\n",
    "https://github.com/RaRe-Technologies/gensim-data"
   ]
  },
  {
   "cell_type": "code",
   "execution_count": 1,
   "metadata": {},
   "outputs": [],
   "source": [
    "import gensim.downloader as api"
   ]
  },
  {
   "cell_type": "markdown",
   "metadata": {},
   "source": [
    "### English model"
   ]
  },
  {
   "cell_type": "code",
   "execution_count": 9,
   "metadata": {},
   "outputs": [
    {
     "name": "stdout",
     "output_type": "stream",
     "text": [
      "[==================================================] 100.0% 104.8/104.8MB downloaded\n"
     ]
    }
   ],
   "source": [
    "model_eng = api.load(\"glove-twitter-25\")"
   ]
  },
  {
   "cell_type": "code",
   "execution_count": 10,
   "metadata": {},
   "outputs": [
    {
     "data": {
      "text/plain": [
       "[('album', 0.8210945725440979),\n",
       " ('tv', 0.8055009841918945),\n",
       " ('band', 0.8047065138816833),\n",
       " ('scene', 0.7982783913612366),\n",
       " ('episode', 0.7816613912582397),\n",
       " ('star', 0.7800239324569702),\n",
       " ('movie', 0.7787662744522095),\n",
       " ('gangnam', 0.7787032127380371),\n",
       " ('stage', 0.7775517106056213),\n",
       " ('novel', 0.7755478620529175)]"
      ]
     },
     "execution_count": 10,
     "metadata": {},
     "output_type": "execute_result"
    }
   ],
   "source": [
    "model_eng.most_similar(\"film\")"
   ]
  },
  {
   "cell_type": "markdown",
   "metadata": {},
   "source": [
    "### Russian model"
   ]
  },
  {
   "cell_type": "code",
   "execution_count": 14,
   "metadata": {},
   "outputs": [
    {
     "name": "stdout",
     "output_type": "stream",
     "text": [
      "[==================================================] 100.0% 198.8/198.8MB downloaded\n"
     ]
    }
   ],
   "source": [
    "model_rus = api.load(\"word2vec-ruscorpora-300\")"
   ]
  },
  {
   "cell_type": "code",
   "execution_count": 17,
   "metadata": {},
   "outputs": [
    {
     "data": {
      "text/plain": [
       "[('кинофильм_NOUN', 0.7740887999534607),\n",
       " ('кино_NOUN', 0.7279390096664429),\n",
       " ('сериал_NOUN', 0.7248302102088928),\n",
       " ('телефильм_NOUN', 0.7210191488265991),\n",
       " ('кинокартина_NOUN', 0.7181444764137268),\n",
       " ('короткометражный_ADJ', 0.712515115737915),\n",
       " ('режиссер_NOUN', 0.7081398963928223),\n",
       " ('документальный_ADJ', 0.6880811452865601),\n",
       " ('короткометражка_NOUN', 0.6876062750816345),\n",
       " ('цветной::широкоэкранный_ADJ', 0.6857694983482361)]"
      ]
     },
     "execution_count": 17,
     "metadata": {},
     "output_type": "execute_result"
    }
   ],
   "source": [
    "model_rus.most_similar(\"фильм_NOUN\")"
   ]
  },
  {
   "cell_type": "code",
   "execution_count": null,
   "metadata": {},
   "outputs": [],
   "source": []
  }
 ],
 "metadata": {
  "kernelspec": {
   "display_name": "Python 3",
   "language": "python",
   "name": "python3"
  },
  "language_info": {
   "codemirror_mode": {
    "name": "ipython",
    "version": 3
   },
   "file_extension": ".py",
   "mimetype": "text/x-python",
   "name": "python",
   "nbconvert_exporter": "python",
   "pygments_lexer": "ipython3",
   "version": "3.6.4"
  }
 },
 "nbformat": 4,
 "nbformat_minor": 2
}
