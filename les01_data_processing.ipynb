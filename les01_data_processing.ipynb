{
 "cells": [
  {
   "cell_type": "markdown",
   "metadata": {},
   "source": [
    "# 1. Обработка данных\n",
    "### Токенизация, частота слов\n",
    "Токенизация — разбиение текста на осмысленные элементы (слова, фразы, символы), называемые токенами.  \n",
    "Частота слов — отношение числа вхождений некоторого слова к общему числу слов документа."
   ]
  },
  {
   "cell_type": "code",
   "execution_count": 11,
   "metadata": {},
   "outputs": [
    {
     "data": {
      "text/plain": [
       "{'в': 2,\n",
       " 'видит': 1,\n",
       " 'грека': 3,\n",
       " 'греку': 1,\n",
       " 'ехал': 1,\n",
       " 'за': 1,\n",
       " 'рак': 2,\n",
       " 'реке': 1,\n",
       " 'реку': 2,\n",
       " 'руку': 2,\n",
       " 'сунул': 1,\n",
       " 'цап': 1,\n",
       " 'через': 1}"
      ]
     },
     "execution_count": 11,
     "metadata": {},
     "output_type": "execute_result"
    }
   ],
   "source": [
    "def tokenize(text):\n",
    "    return text.lower().split()\n",
    "\n",
    "def term_frequency(text):\n",
    "    words = text.lower().split()\n",
    "    unique_words = set(words)\n",
    "    frequency_words = {}\n",
    "    for word in unique_words:\n",
    "        frequency_words[word] = words.count(word)\n",
    "    return frequency_words\n",
    "\n",
    "input_text = '''\n",
    "Ехал Грека через реку \n",
    "Видит Грека в реке рак \n",
    "Сунул в реку руку Грека \n",
    "Рак за руку Греку цап \n",
    "'''\n",
    "term_frequency(input_text)"
   ]
  },
  {
   "cell_type": "markdown",
   "metadata": {},
   "source": [
    "### Тестирование функции"
   ]
  },
  {
   "cell_type": "code",
   "execution_count": 12,
   "metadata": {},
   "outputs": [
    {
     "name": "stdout",
     "output_type": "stream",
     "text": [
      "test_term_frequency_1 (__main__.TermFrequency) ... ok\n",
      "test_term_frequency_more_than_1 (__main__.TermFrequency) ... ok\n",
      "\n",
      "----------------------------------------------------------------------\n",
      "Ran 2 tests in 0.008s\n",
      "\n",
      "OK\n"
     ]
    },
    {
     "data": {
      "text/plain": [
       "<unittest.runner.TextTestResult run=2 errors=0 failures=0>"
      ]
     },
     "execution_count": 12,
     "metadata": {},
     "output_type": "execute_result"
    }
   ],
   "source": [
    "import unittest \n",
    "import sys\n",
    "\n",
    "class TermFrequency(unittest.TestCase):\n",
    "    def test_term_frequency_1(self):\n",
    "        self.assertDictEqual(term_frequency('a b c'), {'a': 1, 'b': 1, 'c': 1})\n",
    "        \n",
    "    def test_term_frequency_more_than_1(self):\n",
    "        self.assertDictEqual(term_frequency('a b c b b c'), {'b': 3, 'c': 2, 'a': 1})\n",
    "\n",
    "suite = unittest.TestLoader().loadTestsFromTestCase(TermFrequency)\n",
    "unittest.TextTestRunner(verbosity=2, stream=sys.stdout).run(suite)"
   ]
  },
  {
   "cell_type": "markdown",
   "metadata": {},
   "source": [
    "### Лемматизация\n",
    "Лемматизация - приведение слова к словарной (начальной)  форме. Инфинитив для глагола, именительный падеж единственного числа — для существительных и прилагательных."
   ]
  },
  {
   "cell_type": "code",
   "execution_count": null,
   "metadata": {},
   "outputs": [],
   "source": [
    "!pip uninstall pymorphy2"
   ]
  },
  {
   "cell_type": "code",
   "execution_count": 13,
   "metadata": {},
   "outputs": [
    {
     "data": {
      "text/plain": [
       "'река'"
      ]
     },
     "execution_count": 13,
     "metadata": {},
     "output_type": "execute_result"
    }
   ],
   "source": [
    "import pymorphy2\n",
    "\n",
    "morph = pymorphy2.MorphAnalyzer()\n",
    "morph.parse('реку')[0].normal_form"
   ]
  },
  {
   "cell_type": "markdown",
   "metadata": {},
   "source": [
    "### Стеммизация\n",
    "Стеммизация (лингвистическая основа слова) — это устранение придатков к корню, то есть отделение суффикса,приставки, окончания."
   ]
  },
  {
   "cell_type": "code",
   "execution_count": null,
   "metadata": {},
   "outputs": [],
   "source": [
    "!pip install nltk"
   ]
  },
  {
   "cell_type": "code",
   "execution_count": 16,
   "metadata": {},
   "outputs": [
    {
     "data": {
      "text/plain": [
       "'рек'"
      ]
     },
     "execution_count": 16,
     "metadata": {},
     "output_type": "execute_result"
    }
   ],
   "source": [
    "from nltk import SnowballStemmer\n",
    "\n",
    "stem = SnowballStemmer('russian').stem('реку')\n",
    "stem"
   ]
  },
  {
   "cell_type": "code",
   "execution_count": null,
   "metadata": {},
   "outputs": [],
   "source": []
  }
 ],
 "metadata": {
  "kernelspec": {
   "display_name": "Python 3",
   "language": "python",
   "name": "python3"
  },
  "language_info": {
   "codemirror_mode": {
    "name": "ipython",
    "version": 3
   },
   "file_extension": ".py",
   "mimetype": "text/x-python",
   "name": "python",
   "nbconvert_exporter": "python",
   "pygments_lexer": "ipython3",
   "version": "3.6.4"
  }
 },
 "nbformat": 4,
 "nbformat_minor": 2
}
